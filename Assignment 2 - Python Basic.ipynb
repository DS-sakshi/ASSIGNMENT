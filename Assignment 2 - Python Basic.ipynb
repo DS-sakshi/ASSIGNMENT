{
 "cells": [
  {
   "cell_type": "code",
   "execution_count": 1,
   "id": "30ce5a43",
   "metadata": {},
   "outputs": [],
   "source": [
    "#1.What are the two values of the Boolean data type? How do you write them?"
   ]
  },
  {
   "cell_type": "code",
   "execution_count": 2,
   "id": "34f06d04",
   "metadata": {},
   "outputs": [],
   "source": [
    "# The two values of Boolean data type are : 'True' and 'False'\n",
    "# We write them as- True / False"
   ]
  },
  {
   "cell_type": "code",
   "execution_count": 3,
   "id": "ed2b8f94",
   "metadata": {},
   "outputs": [],
   "source": [
    "#2. What are the three different types of Boolean operators?"
   ]
  },
  {
   "cell_type": "code",
   "execution_count": 4,
   "id": "a9313d80",
   "metadata": {},
   "outputs": [],
   "source": [
    "# And operator : && , and\n",
    "#  Or operator : || , or\n",
    "# Not operator: not"
   ]
  },
  {
   "cell_type": "code",
   "execution_count": 5,
   "id": "3b248430",
   "metadata": {},
   "outputs": [],
   "source": [
    "#3. Make a list of each Boolean operator's truth tables (i.e. every possible combination of Boolean values for the operator and what it evaluate )."
   ]
  },
  {
   "cell_type": "code",
   "execution_count": 7,
   "id": "c7cc72a7",
   "metadata": {},
   "outputs": [
    {
     "data": {
      "text/plain": [
       "'And operator: \\n              a b a&&b\\n              1 1  1\\n              1 0  0\\n              0 1  0\\n              0 0  0\\n   \\n   Or operator:\\n              a b  a||b\\n              1 1   1\\n              1 0   1\\n              0 1   1\\n              0 0   0\\n              \\n   Not operator:\\n              a    a not \\n              1     0\\n              0     1'"
      ]
     },
     "execution_count": 7,
     "metadata": {},
     "output_type": "execute_result"
    }
   ],
   "source": [
    " \"\"\"And operator: \n",
    "               a b a&&b\n",
    "               1 1  1\n",
    "               1 0  0\n",
    "               0 1  0\n",
    "               0 0  0\n",
    "    \n",
    "    Or operator:\n",
    "               a b  a||b\n",
    "               1 1   1\n",
    "               1 0   1\n",
    "               0 1   1\n",
    "               0 0   0\n",
    "               \n",
    "    Not operator:\n",
    "               a    a not \n",
    "               1     0\n",
    "               0     1\"\"\""
   ]
  },
  {
   "cell_type": "code",
   "execution_count": 8,
   "id": "2c9c4f8e",
   "metadata": {},
   "outputs": [
    {
     "data": {
      "text/plain": [
       "'4. What are the values of the following expressions?\\n(5 > 4) and (3 == 5) : False\\nnot (5 > 4) : 0\\n(5 > 4) or (3 == 5): true\\nnot ((5 > 4) or (3 == 5)) : 0\\n(True and True) and (True == False) : False\\n(not False) or (not True): True'"
      ]
     },
     "execution_count": 8,
     "metadata": {},
     "output_type": "execute_result"
    }
   ],
   "source": [
    "\"\"\"4. What are the values of the following expressions?\n",
    "(5 > 4) and (3 == 5) : False\n",
    "not (5 > 4) : False\n",
    "(5 > 4) or (3 == 5): True\n",
    "not ((5 > 4) or (3 == 5)) : False\n",
    "(True and True) and (True == False) : False\n",
    "(not False) or (not True): True\"\"\"\n"
   ]
  },
  {
   "cell_type": "code",
   "execution_count": 9,
   "id": "4cd59a80",
   "metadata": {},
   "outputs": [
    {
     "data": {
      "text/plain": [
       "False"
      ]
     },
     "execution_count": 9,
     "metadata": {},
     "output_type": "execute_result"
    }
   ],
   "source": [
    "(5 > 4) and (3 == 5)"
   ]
  },
  {
   "cell_type": "code",
   "execution_count": 10,
   "id": "48a7803a",
   "metadata": {},
   "outputs": [
    {
     "data": {
      "text/plain": [
       "False"
      ]
     },
     "execution_count": 10,
     "metadata": {},
     "output_type": "execute_result"
    }
   ],
   "source": [
    "not (5 > 4)"
   ]
  },
  {
   "cell_type": "code",
   "execution_count": 11,
   "id": "b9339c4f",
   "metadata": {},
   "outputs": [
    {
     "data": {
      "text/plain": [
       "True"
      ]
     },
     "execution_count": 11,
     "metadata": {},
     "output_type": "execute_result"
    }
   ],
   "source": [
    "(5 > 4) or (3 == 5)"
   ]
  },
  {
   "cell_type": "code",
   "execution_count": 12,
   "id": "e55ab692",
   "metadata": {},
   "outputs": [
    {
     "data": {
      "text/plain": [
       "False"
      ]
     },
     "execution_count": 12,
     "metadata": {},
     "output_type": "execute_result"
    }
   ],
   "source": [
    "not ((5 > 4) or (3 == 5))"
   ]
  },
  {
   "cell_type": "code",
   "execution_count": 13,
   "id": "f67fe323",
   "metadata": {},
   "outputs": [
    {
     "data": {
      "text/plain": [
       "False"
      ]
     },
     "execution_count": 13,
     "metadata": {},
     "output_type": "execute_result"
    }
   ],
   "source": [
    "(True and True) and (True == False)"
   ]
  },
  {
   "cell_type": "code",
   "execution_count": 14,
   "id": "0ee00fb2",
   "metadata": {},
   "outputs": [
    {
     "data": {
      "text/plain": [
       "True"
      ]
     },
     "execution_count": 14,
     "metadata": {},
     "output_type": "execute_result"
    }
   ],
   "source": [
    "(not False) or (not True)"
   ]
  },
  {
   "cell_type": "code",
   "execution_count": 16,
   "id": "abf3713f",
   "metadata": {},
   "outputs": [],
   "source": [
    "#5. What are the six comparison operators?\n",
    "# Equal operator: =\n",
    "# Not equal operator: !=\n",
    "# less than operator: <\n",
    "# greater than operator: >\n",
    "# less than equal to operator: <=\n",
    "# greater than equal to operator: >=\n"
   ]
  },
  {
   "cell_type": "code",
   "execution_count": 17,
   "id": "c7991144",
   "metadata": {},
   "outputs": [],
   "source": [
    "#6. How do you tell the difference between the equal to and assignment operators?\n",
    "#Describe a condition and when you would use one."
   ]
  },
  {
   "cell_type": "code",
   "execution_count": 18,
   "id": "dc1b2040",
   "metadata": {},
   "outputs": [],
   "source": [
    "# Assignment operator is used to store a value in a variable(=), whereas equality operator(==) is used to compare two values.\n",
    "# Assignment operator usage:\n",
    "# a=45,b=87\n",
    "# Equality operator usage:\n",
    "# type(a)==int or type(b)==str"
   ]
  },
  {
   "cell_type": "code",
   "execution_count": 19,
   "id": "9f707a0e",
   "metadata": {},
   "outputs": [
    {
     "data": {
      "text/plain": [
       "\"7. Identify the three blocks in this code:\\nspam = 0\\nif spam == 10:  BLOCK 1\\nprint('eggs')\\nif spam > 5:     BLOCK 2\\nprint('bacon')\\nelse:             BLOCK 3\\nprint('ham')\\nprint('spam')\\nprint('spam')\""
      ]
     },
     "execution_count": 19,
     "metadata": {},
     "output_type": "execute_result"
    }
   ],
   "source": [
    "\"\"\"7. Identify the three blocks in this code:\n",
    "spam = 0\n",
    "if spam == 10:  BLOCK 1\n",
    "print('eggs')\n",
    "if spam > 5:     BLOCK 2\n",
    "print('bacon')\n",
    "else:             BLOCK 3\n",
    "print('ham')\n",
    "print('spam')\n",
    "print('spam')\"\"\"\n"
   ]
  },
  {
   "cell_type": "code",
   "execution_count": 20,
   "id": "a7734cf1",
   "metadata": {},
   "outputs": [],
   "source": [
    "#8. Write code that prints Hello if 1 is stored in spam, prints Howdy if 2 is stored in spam, \n",
    "#and prints Greetings! if anything else is stored in spam."
   ]
  },
  {
   "cell_type": "code",
   "execution_count": 24,
   "id": "5c5c5dc9",
   "metadata": {},
   "outputs": [
    {
     "name": "stdout",
     "output_type": "stream",
     "text": [
      "2\n",
      "Howdy\n"
     ]
    }
   ],
   "source": [
    "spam=input()\n",
    "if spam=='1':\n",
    "    print('Hello')\n",
    "elif spam=='2':\n",
    "    print('Howdy')\n",
    "else:\n",
    "    print('Greetings!')"
   ]
  },
  {
   "cell_type": "code",
   "execution_count": 25,
   "id": "de0dad19",
   "metadata": {},
   "outputs": [],
   "source": [
    "#9.If your programme is stuck in an endless loop, what keys you’ll press?\n",
    "# 1. Interrupt the kernel using pause key\n",
    "# 2. Press 'ctrl'+'c' or 'ctrl'+'break' keys on keyboard"
   ]
  },
  {
   "cell_type": "code",
   "execution_count": 26,
   "id": "36479ff1",
   "metadata": {},
   "outputs": [],
   "source": [
    "#10. How can you tell the difference between break and continue?\n",
    "# Break comes out the loop and ends the programme and helps us to come out of the code block, \n",
    "#while continue terminates the current condition and brings the pointer to the condition statement so that next statement can be executed."
   ]
  },
  {
   "cell_type": "code",
   "execution_count": 27,
   "id": "699f4039",
   "metadata": {},
   "outputs": [],
   "source": [
    "#11. In a for loop, what is the difference between range(10), range(0, 10), and range(0, 10, 1)?"
   ]
  },
  {
   "cell_type": "code",
   "execution_count": 28,
   "id": "b6a6deea",
   "metadata": {},
   "outputs": [],
   "source": [
    "# range(10): it starts from 0 and ends at 9, as it is not upperbound so the last element is not considered\n",
    "# range(0,10): it starts from 0 and ends at 9, as it is not upperbound so the last element is not considered\n",
    "# range(0,10,1): it starts from 0 and ends at 9, as it is not upperbound so the last element is not considered and '1' represents the skip/jump size to the next element"
   ]
  },
  {
   "cell_type": "code",
   "execution_count": 29,
   "id": "8a09f51c",
   "metadata": {},
   "outputs": [],
   "source": [
    "#12. Write a short program that prints the numbers 1 to 10 using a for loop. \n",
    "#Then write an equivalent program that prints the numbers 1 to 10 using a while loop."
   ]
  },
  {
   "cell_type": "code",
   "execution_count": 32,
   "id": "ae9f89dd",
   "metadata": {},
   "outputs": [
    {
     "name": "stdout",
     "output_type": "stream",
     "text": [
      "1 2 3 4 5 6 7 8 9 10 "
     ]
    }
   ],
   "source": [
    "for i in range(1,11):\n",
    "    print(i,end=\" \")"
   ]
  },
  {
   "cell_type": "code",
   "execution_count": 36,
   "id": "d6fa60b7",
   "metadata": {},
   "outputs": [
    {
     "name": "stdout",
     "output_type": "stream",
     "text": [
      "1 2 3 4 5 6 7 8 9 10 "
     ]
    }
   ],
   "source": [
    "i=1\n",
    "while i<=10:\n",
    "    print(i,end=\" \")\n",
    "    i=i+1\n",
    "    "
   ]
  },
  {
   "cell_type": "code",
   "execution_count": 37,
   "id": "b14caf19",
   "metadata": {},
   "outputs": [],
   "source": [
    "#13. If you had a function named bacon() inside a module named spam, how would you call it after importing spam?\n",
    "# from spam import bacon()\n",
    "# spam.bacon()"
   ]
  },
  {
   "cell_type": "code",
   "execution_count": null,
   "id": "e8a37c04",
   "metadata": {},
   "outputs": [],
   "source": []
  }
 ],
 "metadata": {
  "kernelspec": {
   "display_name": "Python 3 (ipykernel)",
   "language": "python",
   "name": "python3"
  },
  "language_info": {
   "codemirror_mode": {
    "name": "ipython",
    "version": 3
   },
   "file_extension": ".py",
   "mimetype": "text/x-python",
   "name": "python",
   "nbconvert_exporter": "python",
   "pygments_lexer": "ipython3",
   "version": "3.9.7"
  }
 },
 "nbformat": 4,
 "nbformat_minor": 5
}
