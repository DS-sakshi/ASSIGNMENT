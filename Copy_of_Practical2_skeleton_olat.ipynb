{
  "cells": [
    {
      "cell_type": "markdown",
      "metadata": {
        "id": "view-in-github",
        "colab_type": "text"
      },
      "source": [
        "<a href=\"https://colab.research.google.com/github/DS-sakshi/ASSIGNMENT/blob/main/Copy_of_Practical2_skeleton_olat.ipynb\" target=\"_parent\"><img src=\"https://colab.research.google.com/assets/colab-badge.svg\" alt=\"Open In Colab\"/></a>"
      ]
    },
    {
      "cell_type": "markdown",
      "metadata": {
        "id": "Wjtuw7jnbNO6"
      },
      "source": [
        "# Practical 2 : Generative and Discriminative Models\n"
      ]
    },
    {
      "cell_type": "markdown",
      "metadata": {
        "id": "Y-OFfjKtbNPF"
      },
      "source": [
        "In this practical, we will compare the Naïve Bayes Classifier (NBC) and Logistic Regression on several\n",
        "datasets. As part of the practical you should read briefly the following paper:\n",
        "\n"
      ]
    },
    {
      "cell_type": "markdown",
      "metadata": {
        "id": "YMML8ou7bNPG"
      },
      "source": [
        "**On Discriminative vs. Generative classifiers: A comparison of logistic regression\n",
        "and naive Bayes**  \n",
        "*Andrew Y. Ng and Michael I. Jordan*  \n",
        "Advances in Neural Information Processing Systems (NIPS) 2001.\n",
        "\n",
        "The paper is available on OLAT."
      ]
    },
    {
      "cell_type": "markdown",
      "metadata": {
        "id": "suZKrQvBbNPI"
      },
      "source": [
        "You should read the Introduction and the Experiments sections. The goal of this practical is\n",
        "to qualitatively reproduce some of the experimental results in this paper. You are strongly\n",
        "encouraged to read the rest of the paper, which is rather short and straightforward to read,\n",
        "though some of you may want to skip the formal proofs."
      ]
    },
    {
      "cell_type": "markdown",
      "metadata": {
        "id": "ILMdvYLmbNPJ"
      },
      "source": [
        "## Naïve Bayes Classifier (NBC)"
      ]
    },
    {
      "cell_type": "markdown",
      "metadata": {
        "id": "_jjGG7jnbNPJ"
      },
      "source": [
        "You should implement a Naïve Bayes Classifier from scartch using NumPy. To keep your code tidy,\n",
        "we recommend implementing it as a class.\n",
        "The classifier should be able to handle binary and continuous features.\n",
        "To earn the bonus points, the classifier should be able to handle categorical features as well.\n",
        "Suppose the data has 3\n",
        "different features, the first being binary, the second being continuous and the third being categorical. Write an implementation that you can initialise as follows:\n",
        "\n",
        "    nbc = NBC(feature_types=['b', 'r', 'c'])"
      ]
    },
    {
      "cell_type": "markdown",
      "metadata": {
        "id": "qdtL9rbrbNPK"
      },
      "source": [
        "Along the lines of classifiers provided in sklearn, you want to implement two more functions,\n",
        "**fit** and **predict**.\n",
        "Recall the joint distribution of a generative model: $p(\\mathbf{x}, y \\mid \\theta, \\pi) = p(y \\mid \\pi) \\cdot p(\\mathbf{x} \\mid y, \\theta)$.\n",
        "The **fit** function is to estimate all the parameters ($\\theta$ and $\\pi$) of the NBC, i.e., train the classifier. The **predict** function is to compute the probabilities that the new input belongs to all classes and\n",
        "then return the class that has the largest probability, i.e., make the prediction.\n",
        "\n",
        "    nbc.fit(X_train, y_train)\n",
        "    ypredicted = nbc.predict(X_test)\n",
        "    test_accuracy = np.mean(ypredicted == ytest)"
      ]
    },
    {
      "cell_type": "markdown",
      "metadata": {
        "id": "6frc-MBKbNPM"
      },
      "source": [
        "Here we import the libraries."
      ]
    },
    {
      "cell_type": "code",
      "execution_count": 9,
      "metadata": {
        "id": "xF1osfklbNPN"
      },
      "outputs": [],
      "source": [
        "%matplotlib inline\n",
        "import pylab\n",
        "pylab.rcParams['figure.figsize'] = (10., 10.)\n",
        "\n",
        "import pickle as cp\n",
        "import matplotlib.pyplot as plt\n",
        "import numpy as np"
      ]
    },
    {
      "cell_type": "markdown",
      "metadata": {
        "id": "vLgrrnAzbNPR"
      },
      "source": [
        "### Class-conditional distributions\n",
        "\n",
        "Before implementing NBC, we first implement the class-conditional distributions $p(\\mathbf{x} \\mid y, \\theta)$. Your implementation should have two functions: **estimate** and **get_log_probability**.\n",
        "\n",
        "- The **estimate** function takes data as input and models the data using some distribution $p(x \\mid \\theta)$, where $\\theta$ is the parameters of this distribution. The function estimates the parameters $\\theta$ using maximum likelihood estimators (MLE).\n",
        "For example, in the case of continuous features, we use the Gaussian distribution to model the data. The estimate function will find the parameters $\\mu$ and $\\sigma$ for the Gaussian distribution with respect to the input data.\n",
        "\n",
        "- The **get_log_probability** function takes as input a new data point $x_{new}$ and returns the log of $p(x_{new} \\mid \\theta)$. For the Gaussian distribution, the function get_probability will return $\\mathcal{N}(x_{new} \\mid \\mu, \\sigma)$."
      ]
    },
    {
      "cell_type": "markdown",
      "metadata": {
        "id": "oyEiQGL6bNPS"
      },
      "source": [
        "For different types of features, you need to use different distributions.\n",
        "You can import statistic libraries (e.g., `scipy.stats`) for the implementation of the distributions.\n",
        "\n",
        "- For **continuous features**: Use Gaussian distribution\n",
        "    https://docs.scipy.org/doc/scipy/reference/generated/scipy.stats.norm.html\n",
        "- For **binary features**: Use Bernoulli distribution\n",
        "    https://docs.scipy.org/doc/scipy/reference/generated/scipy.stats.bernoulli.html\n",
        "- For **categorical features**: Use Multinoulli distribution (The multinoulli distribution is a special case of the multinomial distribution, where the number of trials is 1)\n",
        "    https://docs.scipy.org/doc/scipy/reference/generated/scipy.stats.multinomial.html\n",
        "\n"
      ]
    },
    {
      "cell_type": "markdown",
      "metadata": {
        "id": "ukBrS8fybNPS"
      },
      "source": [
        "**Implementation Issues:**\n",
        "- The probabilities can be very small. To avoid underflow issues, you should compute the log of the probabilities. Read more: (Mur) Chapter 3.5.3 / Lecture Notes\n",
        "- The variance for Gaussian distributions should never be exactly 0, so in\n",
        "case your calculated variance is 0, you may want to set it to a small value such as 1e − 6. This is to ensure that your code never encounters division by zero or\n",
        "taking logarithms of 0 errors.\n",
        "For this practical, please set the small value to 1e-6.\n",
        "- Laplace/Additive smoothing: You want to ensure that the estimates for the parameter for the Bernoulli and Multinoulli random variables is never exactly 0 or 1. For this reason you should consider using Laplace smoothing (https://en.wikipedia.org/wiki/Additive_smoothing).\n",
        "For this practical, please set alpha to 1.\n",
        "- We will check the correctness of your implementation using the tests below.\n",
        "- For simplicity, you can assume the data values for binary features are integers from {0,1} and the data for a categorical feature with M categories are integers from {0, ..., M-1}.\n",
        "- Fell free to add auxiliary functions or change the parameters of the functions. If you change the parameters of the functions, make sure you change the tests accordingly, so we can test your code.\n"
      ]
    },
    {
      "cell_type": "code",
      "execution_count": 10,
      "metadata": {
        "id": "CQ4tqKnpbNPT"
      },
      "outputs": [],
      "source": [
        "ALPHA = 1.0 # for additive smoothing\n",
        "SMALL_VALUE = 1e-6\n",
        "from scipy.stats import norm\n",
        "# Distribution for continuous features\n",
        "class ContFeatureParam:\n",
        "    def estimate(self, X):\n",
        "        # TODO: Estimate the parameters for the Gaussian distribution\n",
        "        # so that it best describes the input data X\n",
        "        # The code below is just for compilation.\n",
        "        # You need to replace it by your own code.\n",
        "        ###################################################\n",
        "        ##### YOUR CODE STARTS HERE #######################\n",
        "        ###################################################\n",
        "        self._mu = np.mean(X)\n",
        "        var_MLE = np.var(X)\n",
        "        if var_MLE == 0:\n",
        "            var_MLE = SMALL_VALUE\n",
        "        self._sigma = var_MLE**0.5\n",
        "\n",
        "        ###################################################\n",
        "        ##### YOUR CODE ENDS HERE #########################\n",
        "        ###################################################\n",
        "\n",
        "    def get_log_probability(self, X_new):\n",
        "        # TODO: return the log of the density values for the input values X_new\n",
        "        # The code below is just for compilation.\n",
        "        # You need to replace it by your own code.\n",
        "        ###################################################\n",
        "        ##### YOUR CODE STARTS HERE #######################\n",
        "        ###################################################\n",
        "        log_probability = norm.logpdf(X_new,self._mu,self._sigma)\n",
        "        return np.array(log_probability)\n",
        "        ###################################################\n",
        "        ##### YOUR CODE ENDS HERE #########################\n",
        "        ###################################################\n",
        "\n",
        "# Distribution for binary features\n",
        "class BinFeatureParam:\n",
        "    def estimate(self, X):\n",
        "        # TODO: Estimate the parameters for the Bernoulli distribution\n",
        "        # so that it best describes the input data X\n",
        "        # The code below is just for compilation.\n",
        "        # You need to replace it by your own code.\n",
        "        ###################################################\n",
        "        ##### YOUR CODE STARTS HERE #######################\n",
        "        ###################################################\n",
        "        # X is a vector with binary values\n",
        "        count=0\n",
        "        # benary feature has 2 category\n",
        "        d=2\n",
        "        for i in range(len(X)):\n",
        "            if(X[i]==1):\n",
        "                count=count+1\n",
        "        p_hat=(count+ALPHA)/(len(X)+ALPHA*d)\n",
        "        self._p = p_hat\n",
        "        ###################################################\n",
        "        ##### YOUR CODE ENDS HERE #########################\n",
        "        ###################################################\n",
        "\n",
        "    def get_log_probability(self, X_new):\n",
        "        # TODO: return the log of the probability values for the input values X_new\n",
        "        # The code below is just for compilation.\n",
        "        # You need to replace it by your own code.\n",
        "        ###################################################\n",
        "        ##### YOUR CODE STARTS HERE #######################\n",
        "        ###################################################\n",
        "        p = self._p if self._p!=0 else SMALL_VALUE\n",
        "        p_opposite = 1-p if 1-p!=0 else SMALL_VALUE\n",
        "        log_probability = np.array([np.log(p) if x==1 else np.log(p_opposite) for x in X_new])\n",
        "        return log_probability\n",
        "        ###################################################\n",
        "        ##### YOUR CODE ENDS HERE #########################\n",
        "        ###################################################\n",
        "\n",
        "# Distribution for categorical features\n",
        "class CatFeatureParam:\n",
        "\n",
        "    # we need to know the number of categories for the categorical feature\n",
        "    def __init__(self, num_of_categories):\n",
        "        self._num_of_categories = num_of_categories\n",
        "\n",
        "    def estimate(self, X):\n",
        "        # TODO: Estimate the parameters for the Multinoulli distribution\n",
        "        # so that it best describes the input data X\n",
        "        # The code below is just for compilation.\n",
        "        # You need to replace it by your own code.\n",
        "        ###################################################\n",
        "        ##### YOUR CODE STARTS HERE #######################\n",
        "        ###################################################\n",
        "        num=self._num_of_categories\n",
        "        count=[0]*num\n",
        "        for i in range(len(X)):\n",
        "            count[X[i]]=count[X[i]]+1\n",
        "\n",
        "        self._pList = []\n",
        "        for i in range(num):\n",
        "            p_hat=(count[i]+ALPHA)/(len(X)+ALPHA*num)\n",
        "            self._pList.append(p_hat)\n",
        "        ###################################################\n",
        "        ##### YOUR CODE ENDS HERE #########################\n",
        "        ###################################################\n",
        "\n",
        "    def get_log_probability(self, X_new):\n",
        "        # TODO: return the log of the probability values for the input values X_new\n",
        "        # The code below is just for compilation.\n",
        "        # You need to replace it by your own code.\n",
        "        ###################################################\n",
        "        ##### YOUR CODE STARTS HERE #######################\n",
        "        ###################################################\n",
        "        log_probability = np.ones(X_new.shape)\n",
        "        for i in range(len(X_new)):\n",
        "            x = X_new[i]\n",
        "            p = self._pList[x]\n",
        "            log_probability[i] = np.log(p)\n",
        "        return log_probability\n",
        "        ###################################################\n",
        "        ##### YOUR CODE ENDS HERE #########################\n",
        "        ###################################################"
      ]
    },
    {
      "cell_type": "markdown",
      "metadata": {
        "id": "AIL4W8VhbNPV"
      },
      "source": [
        "**Tests:**\n",
        "    \n",
        "We will use the code below to test the correctness of your code."
      ]
    },
    {
      "cell_type": "code",
      "execution_count": 11,
      "metadata": {
        "colab": {
          "base_uri": "https://localhost:8080/"
        },
        "id": "-wq2lntjbNPV",
        "outputId": "2e2dfddb-decc-4901-88c3-4b3b43c7af8f"
      },
      "outputs": [
        {
          "output_type": "stream",
          "name": "stdout",
          "text": [
            "[-5.64670664 -3.02757918 -1.44567455 -0.90099277]\n"
          ]
        }
      ],
      "source": [
        "# continuous features\n",
        "\n",
        "X = np.array([2.70508547,2.10499698,1.76019132,3.42016431,3.47037973,3.67435061,1.84749286,4.3388506,2.27818252,4.65165335])\n",
        "\n",
        "param = ContFeatureParam()\n",
        "param.estimate(X)\n",
        "probs = param.get_log_probability(np.array([0,1,2,3]))\n",
        "print(probs)"
      ]
    },
    {
      "cell_type": "code",
      "execution_count": 12,
      "metadata": {
        "colab": {
          "base_uri": "https://localhost:8080/"
        },
        "id": "ZF9jAKaVbNPX",
        "outputId": "37cb0045-6a9c-43ec-83d4-4bb1d9ca52e4"
      },
      "outputs": [
        {
          "output_type": "stream",
          "name": "stdout",
          "text": [
            "[-0.87546874 -0.5389965 ]\n"
          ]
        }
      ],
      "source": [
        "# binary features\n",
        "\n",
        "X = np.array([0,0,1,1,0,1,0,1,1,1])\n",
        "\n",
        "param = BinFeatureParam()\n",
        "param.estimate(X)\n",
        "probs = param.get_log_probability(np.array([0,1]))\n",
        "print(probs)"
      ]
    },
    {
      "cell_type": "code",
      "execution_count": 13,
      "metadata": {
        "colab": {
          "base_uri": "https://localhost:8080/"
        },
        "id": "51g0T9UWbNPY",
        "outputId": "09394d21-6c61-435f-cd5a-8847f59c6dd2"
      },
      "outputs": [
        {
          "output_type": "stream",
          "name": "stdout",
          "text": [
            "[-1.94591015 -2.1690537  -1.94591015 -2.45673577 -2.1690537  -2.86220088\n",
            " -1.94591015 -3.55534806 -2.1690537  -2.86220088]\n"
          ]
        }
      ],
      "source": [
        "# categorical features (bonus task)\n",
        "\n",
        "X = np.array([0,6,5,4,0,6,6,4,1,1,2,3,8,8,1,6,4,9,0,2,2,3,8,0,2])\n",
        "\n",
        "param = CatFeatureParam(num_of_categories=10)\n",
        "param.estimate(X)\n",
        "probs = param.get_log_probability(np.array([0,1,2,3,4,5,6,7,8,9]))\n",
        "print(probs)"
      ]
    },
    {
      "cell_type": "markdown",
      "metadata": {
        "id": "iQctcQ0dbNPZ"
      },
      "source": [
        "### Implement NBC\n",
        "\n",
        "We are now ready to implement NBC. We follow the structure of models in scikit-learn. We implement NBC as a class with functions **init**, **fit** and **predict**.\n",
        "The **init** function takes as input the types of features and initialise the classifier. The **fit** function takes the training data as input and estimates the parameters. The **predict** function predicts the label for the input data."
      ]
    },
    {
      "cell_type": "markdown",
      "metadata": {
        "id": "xu68IxTfbNPZ"
      },
      "source": [
        "**Implementation Issues:**\n",
        "- You should use matrix operations rather than loops. In general, loops over classes or features are OK, but loops over the rows of data are not a good idea.\n",
        "- The probabilities can be very small. To avoid underflow issues, you should do the calculations in log space. Read more: (Mur) Chapter 3.5.3 / Lecture Note\n",
        "- For simplicity, you can assume the data values for binary features are integers from {0, 1} and the data for a categorical feature with M categories are integers from {0, ..., M-1}.\n",
        "- Fell free to add auxiliary functions or change the parameters of the functions. If you change the parameters of the functions, make sure you change the tests accordingly, so we can test your code."
      ]
    },
    {
      "cell_type": "code",
      "execution_count": 14,
      "metadata": {
        "id": "01FJTQ57bNPZ"
      },
      "outputs": [],
      "source": [
        "# Your task is to implement the three functions of NBC.\n",
        "\n",
        "class NBC:\n",
        "    # Inputs:\n",
        "    #   feature_types: the array of the types of the features, e.g., feature_types=['b', 'r', 'c']\n",
        "    def __init__(self, feature_types=[]):\n",
        "        # TODO:\n",
        "        # The code below is just for compilation.\n",
        "        # You need to replace it by your own code.\n",
        "        ###################################################\n",
        "        ##### YOUR CODE STARTS HERE #######################\n",
        "        ###################################################\n",
        "        self._feature_types = feature_types\n",
        "        ###################################################\n",
        "        ##### YOUR CODE ENDS HERE #########################\n",
        "        ###################################################\n",
        "\n",
        "\n",
        "    # The function uses the input data to estimate all the parameters of the NBC\n",
        "    def fit(self, X, y):\n",
        "        # TODO:\n",
        "        # The code below is just for compilation.\n",
        "        # You need to replace it by your own code.\n",
        "        ###################################################\n",
        "        ##### YOUR CODE STARTS HERE #######################\n",
        "        ###################################################\n",
        "        set_y = set(y)\n",
        "        self._class_prior_dict = {}\n",
        "        for c in set_y:\n",
        "            p_c = np.count_nonzero(y==c)/len(y) if np.count_nonzero(y==c)!=0 else SMALL_VALUE\n",
        "            self._class_prior_dict[c]=p_c\n",
        "        self._theta_c_dict = {}\n",
        "\n",
        "        # find those catalog features\n",
        "        cat_num_x_j=[0]*X.shape[1]\n",
        "        for j in range(X.shape[1]):\n",
        "            if self._feature_types[j] == 'c':\n",
        "                cat_num_x_j[j]=np.max(X[:,j])+1\n",
        "\n",
        "\n",
        "        for c in set_y:\n",
        "            x_c = np.array([X[i] for i in range(len(y)) if y[i]==c])\n",
        "            theta_c = []\n",
        "            for j in range(x_c.shape[1]):\n",
        "                if self._feature_types[j] == 'b':\n",
        "                    param_j = BinFeatureParam()\n",
        "                elif self._feature_types[j] == 'r':\n",
        "                    param_j = ContFeatureParam()\n",
        "                elif self._feature_types[j] == 'c':\n",
        "                    param_j = CatFeatureParam(cat_num_x_j[j])\n",
        "                param_j.estimate(x_c[:,j])\n",
        "                theta_c.append(param_j)\n",
        "\n",
        "            self._theta_c_dict[c] = theta_c\n",
        "\n",
        "        ###################################################\n",
        "        ##### YOUR CODE ENDS HERE #########################\n",
        "        ###################################################\n",
        "\n",
        "\n",
        "    # The function takes the data X as input, and predicts the class for the data\n",
        "    def predict(self, X):\n",
        "        # TODO:\n",
        "        # The code below is just for compilation.\n",
        "        # You need to replace it by your own code.\n",
        "        ###################################################\n",
        "        ##### YOUR CODE STARTS HERE #######################\n",
        "        ###################################################\n",
        "        res = []\n",
        "\n",
        "        log_joint_probability_dict = {}\n",
        "        for c in self._class_prior_dict.keys():\n",
        "            theta_c = self._theta_c_dict[c]\n",
        "            # 30*4\n",
        "            log_likelihoods_j = np.array([theta_c[j].get_log_probability(X[:,j])for j in range(X.shape[1])]).transpose()\n",
        "            # 30*1\n",
        "            log_likelihood = log_likelihoods_j.sum(axis=1)\n",
        "            log_prior = np.log(self._class_prior_dict[c])\n",
        "            log_joint_probability_dict[c] = log_likelihood+log_prior\n",
        "\n",
        "        # for each data point i, sort the prob_dict by the i_th joint prob, find the maximum one's key, which is the label we predict for this point.\n",
        "        for i in range(X.shape[0]):\n",
        "            reverse_sort_prob_dict = sorted(log_joint_probability_dict.items(),key=lambda x:x[1][i],reverse=True)\n",
        "            key = reverse_sort_prob_dict[0][0]\n",
        "            res.append(key)\n",
        "\n",
        "\n",
        "        return np.array(res)\n",
        "        ###################################################\n",
        "        ##### YOUR CODE ENDS HERE #########################\n",
        "        ###################################################"
      ]
    },
    {
      "cell_type": "markdown",
      "metadata": {
        "id": "oxE2EtTRbNPa"
      },
      "source": [
        "**Tests**\n",
        "\n",
        "We will use the code below to check your code."
      ]
    },
    {
      "cell_type": "code",
      "execution_count": 15,
      "metadata": {
        "colab": {
          "base_uri": "https://localhost:8080/"
        },
        "id": "SG5QTpXhbNPb",
        "outputId": "977e884e-094e-40b5-9b45-4fcec75a49af"
      },
      "outputs": [
        {
          "output_type": "stream",
          "name": "stdout",
          "text": [
            "Accuracy: 0.9333333333333333\n",
            "[2 2 2 2 2 2 2 2 2 2 2 2 2 1 1 2 2 2 2 2 2 2 2 2 2 2 2 2 2 2]\n"
          ]
        }
      ],
      "source": [
        "# All features of the iris dataset are continuous.\n",
        "\n",
        "from sklearn.datasets import load_iris\n",
        "iris = load_iris()\n",
        "X, y = iris['data'], iris['target']\n",
        "\n",
        "N, D = X.shape\n",
        "Ntrain = int(0.8 * N)\n",
        "Xtrain = X[:Ntrain]\n",
        "ytrain = y[:Ntrain]\n",
        "Xtest = X[Ntrain:]\n",
        "ytest = y[Ntrain:]\n",
        "\n",
        "\n",
        "nbc_iris = NBC(feature_types=['r', 'r', 'r', 'r'])\n",
        "nbc_iris.fit(Xtrain, ytrain)\n",
        "yhat = nbc_iris.predict(Xtest)\n",
        "test_accuracy = np.mean(yhat == ytest)\n",
        "\n",
        "print(\"Accuracy:\", test_accuracy) # should be larger than 90%\n",
        "print(yhat)"
      ]
    },
    {
      "cell_type": "code",
      "execution_count": 16,
      "metadata": {
        "colab": {
          "base_uri": "https://localhost:8080/"
        },
        "id": "9vXrVc43bNPb",
        "outputId": "f1964bfb-1ed9-47d1-916b-6aeb32764e7d"
      },
      "outputs": [
        {
          "output_type": "stream",
          "name": "stdout",
          "text": [
            "Accuracy: 0.8723404255319149\n",
            "[1 0 1 1 0 1 1 0 0 1 1 1 0 1 1 1 1 1 0 1 1 0 1 0 0 1 1 1 0 1 1 1 0 1 0 1 0\n",
            " 0 0 1 0 0 0 0 1 1 0]\n"
          ]
        }
      ],
      "source": [
        "# All features of this dataset are binary\n",
        "import pandas as pd\n",
        "data = pd.read_csv('/content/binary_test.csv', header=None)\n",
        "data = data.to_numpy()\n",
        "\n",
        "X = data[:,1:]\n",
        "y = data[:,0]\n",
        "\n",
        "N, D = X.shape\n",
        "Ntrain = int(0.8 * N)\n",
        "Xtrain = X[:Ntrain]\n",
        "ytrain = y[:Ntrain]\n",
        "Xtest = X[Ntrain:]\n",
        "ytest = y[Ntrain:]\n",
        "\n",
        "\n",
        "nbc = NBC(feature_types=['b'] * 16)\n",
        "nbc.fit(Xtrain, ytrain)\n",
        "yhat = nbc.predict(Xtest)\n",
        "test_accuracy = np.mean(yhat == ytest)\n",
        "\n",
        "print(\"Accuracy:\", test_accuracy) # should be larger than 85%\n",
        "print(yhat)"
      ]
    },
    {
      "cell_type": "code",
      "execution_count": 17,
      "metadata": {
        "colab": {
          "base_uri": "https://localhost:8080/"
        },
        "id": "9p3EDxScbNPc",
        "outputId": "3ac8c306-e72a-44f4-c43d-73f33a460a08"
      },
      "outputs": [
        {
          "output_type": "stream",
          "name": "stdout",
          "text": [
            "Accuracy: 0.6896551724137931\n",
            "[0 1 0 1 1 0 1 1 0 1 0 0 1 0 1 0 0 0 0 0 0 0 1 0 0 1 1 0 1 0 1 0 0 0 0 1 0\n",
            " 1 0 0 0 0 0 0 1 0 0 0 0 0 0 0 1 0 0 0 0 0]\n"
          ]
        }
      ],
      "source": [
        "# All features of this dataset are categorical (bonus task)\n",
        "\n",
        "data = pd.read_csv('/content/categorical_test.csv', header=None)\n",
        "data = data.to_numpy()\n",
        "\n",
        "X = data[:,:-1]\n",
        "y = data[:,-1]\n",
        "\n",
        "N, D = X.shape\n",
        "Ntrain = int(0.8 * N)\n",
        "Xtrain = X[:Ntrain]\n",
        "ytrain = y[:Ntrain]\n",
        "Xtest = X[Ntrain:]\n",
        "ytest = y[Ntrain:]\n",
        "\n",
        "\n",
        "nbc = NBC(feature_types=['c'] * 9)\n",
        "nbc.fit(Xtrain, ytrain)\n",
        "yhat = nbc.predict(Xtest)\n",
        "test_accuracy = np.mean(yhat == ytest)\n",
        "\n",
        "print(\"Accuracy:\", test_accuracy) # should be larger than 65%\n",
        "print(yhat)"
      ]
    },
    {
      "cell_type": "markdown",
      "metadata": {
        "id": "8jOK70jzbNPc"
      },
      "source": [
        "## Logistic Regression"
      ]
    },
    {
      "cell_type": "markdown",
      "metadata": {
        "id": "hHanFDoYbNPd"
      },
      "source": [
        "For logistic regression, you should use the implementation in scikit-learn. Add the following\n",
        "line to import the LR model."
      ]
    },
    {
      "cell_type": "code",
      "execution_count": 18,
      "metadata": {
        "id": "jK-shIAVbNPd"
      },
      "outputs": [],
      "source": [
        "from sklearn.linear_model import LogisticRegression"
      ]
    },
    {
      "cell_type": "markdown",
      "metadata": {
        "id": "nsALRXyEbNPd"
      },
      "source": [
        "Check the scikit-learn documentation for the Logistic Regression model:\n",
        "- http://scikit-learn.org/stable/modules/linear_model.html#logistic-regression\n",
        "- http://scikit-learn.org/stable/modules/generated/sklearn.linear_model.LogisticRegression.html#sklearn.linear_model.LogisticRegression\n"
      ]
    },
    {
      "cell_type": "markdown",
      "metadata": {
        "id": "nMupadkEbNPd"
      },
      "source": [
        "## Comparing NBC and LR"
      ]
    },
    {
      "cell_type": "markdown",
      "metadata": {
        "id": "6YUQbf-rbNPe"
      },
      "source": [
        "### Experiments\n",
        "\n",
        "The experiment is to compare the classification error of the NBC and LR trained on increasingly larger training datasets.\n",
        "Since the datasets are so small, you should do this multiple times and\n",
        "average the classification error. One run should look as follows:\n",
        "- Shuffle the data, put 20% aside for testing.\n",
        "    \n",
        "    ```N, D = X.shape\n",
        "    Ntrain = int(0.8 * N)\n",
        "    shuffler = np.random.permutation(N)\n",
        "    Xtrain = X[shuffler[:Ntrain]]\n",
        "    ytrain = y[shuffler[:Ntrain]]\n",
        "    Xtest = X[shuffler[Ntrain:]]\n",
        "    ytest = y[shuffler[Ntrain:]]\n",
        "    \n",
        "    ```  \n",
        "\n",
        "\n",
        "- Train the classifiers with increasingly more data. For example, we can train classifiers with 10%, 20%, ..., 100% of the training data. For each case store the classification errors on the test set of the classifiers.\n",
        "\n",
        "You may want to repeat this with at least 200 random permutations (possibly as large as 1000)\n",
        "to average out the test error across the runs. In the end, you will get average test errors as a function of the size of the training data.\n",
        "We have written for you the function for making the plots for the experiments."
      ]
    },
    {
      "cell_type": "code",
      "execution_count": 19,
      "metadata": {
        "id": "dzLylfb5bNPe"
      },
      "outputs": [],
      "source": [
        "# inputs:\n",
        "#   nbc: Naive Bayes Classifier\n",
        "#   lr: Logistic Regression Classifier\n",
        "#   X, y: data\n",
        "#   num_runs: we need repeat num_runs times and store average results\n",
        "#   num_splits: we want to compare the two models on increasingly larger training sets.\n",
        "#               num_splits defines the number of increasing steps.\n",
        "# outputs:\n",
        "#   the arrays of the test errors across the runs of the two classifiers\n",
        "def compareNBCvsLR(nbc, lr, X, y, num_runs=200, num_splits=10):\n",
        "\n",
        "    # The code below is just for compilation.\n",
        "    # You need to replace it by your own code.\n",
        "    ###################################################\n",
        "    ##### YOUR CODE STARTS HERE #######################\n",
        "    ###################################################\n",
        "    tst_errs_nbc = np.zeros((num_splits,))\n",
        "    tst_errs_lr = np.zeros((num_splits,))\n",
        "    N, D = X.shape\n",
        "    Ntrain = int(0.8 * N)\n",
        "    shuffler = np.random.permutation(N)\n",
        "\n",
        "    trainDataStep = int(Ntrain/num_splits)\n",
        "\n",
        "    for round in range(num_runs):\n",
        "        Xtrain = X[shuffler[:Ntrain]]\n",
        "        ytrain = y[shuffler[:Ntrain]]\n",
        "        Xtest = X[shuffler[Ntrain:]]\n",
        "        ytest = y[shuffler[Ntrain:]]\n",
        "        tst_errs_nbc_round = []\n",
        "        tst_errs_lr_round = []\n",
        "        for i in range(num_splits):\n",
        "            Xtrain_i = Xtrain[:int(trainDataStep*(i+1))]\n",
        "            ytrain_i = ytrain[:int(trainDataStep*(i+1))]\n",
        "            nbc.fit(Xtrain_i,ytrain_i)\n",
        "            lr.fit(Xtrain_i,ytrain_i)\n",
        "            y_hat_nbc = nbc.predict(Xtest)\n",
        "            y_hat_lr = lr.predict(Xtest)\n",
        "            tst_errs_nbc_round.append(np.mean((ytest-y_hat_nbc)**2))\n",
        "            tst_errs_lr_round.append(np.mean((ytest-y_hat_lr)**2))\n",
        "\n",
        "\n",
        "        tst_errs_nbc_round = np.array(tst_errs_nbc_round)\n",
        "        tst_errs_lr_round = np.array(tst_errs_lr_round)\n",
        "            # err_nbc+=np.mean(ytest!=y_hat_nbc)\n",
        "            # err_lr+=np.mean(ytest!=y_hat_lr)\n",
        "        # print(tst_errs_nbc_round.shape)\n",
        "        # print(tst_errs_nbc.shape)\n",
        "        tst_errs_nbc+=tst_errs_nbc_round\n",
        "        tst_errs_lr+=tst_errs_lr_round\n",
        "\n",
        "    tst_errs_nbc/=num_runs\n",
        "    tst_errs_lr/=num_runs\n",
        "\n",
        "    return tst_errs_nbc, tst_errs_lr\n",
        "    ###################################################\n",
        "    ##### YOUR CODE ENDS HERE #########################\n",
        "    ###################################################"
      ]
    },
    {
      "cell_type": "code",
      "execution_count": 20,
      "metadata": {
        "id": "EValK9tWbNPe"
      },
      "outputs": [],
      "source": [
        "def makePlot(tst_errs_nbc, tst_errs_lr, title=None, num_splits=10):\n",
        "    fig = plt.figure()\n",
        "    ax = fig.add_subplot(1, 1, 1)\n",
        "\n",
        "    ax.tick_params(axis='both', labelsize=20)\n",
        "\n",
        "    ax.set_xlabel('Percent of training data used', fontsize=20)\n",
        "    ax.set_ylabel('Classification Error', fontsize=20)\n",
        "    if title is not None: ax.set_title(title, fontsize=25)\n",
        "\n",
        "    xaxis_scale = [(i + 1) * (100/num_splits) for i in range(num_splits)]\n",
        "    plt.plot(xaxis_scale, tst_errs_nbc, label='Naive Bayes')\n",
        "    plt.plot(xaxis_scale, tst_errs_lr, label='Logistic Regression', linestyle='dashed')\n",
        "\n",
        "    ax.legend(loc='upper right', fontsize=20)"
      ]
    },
    {
      "cell_type": "markdown",
      "metadata": {
        "id": "6-C4aJMjbNPf"
      },
      "source": [
        "### Datasets"
      ]
    },
    {
      "cell_type": "markdown",
      "metadata": {
        "id": "njwxzyj3bNPf"
      },
      "source": [
        "Tasks: For each dataset,\n",
        "1. Prepare the data for the two classifiers, e.g., handle missing values and the categorical data. When you handle the categorical data, you should check whether the data is ordinal or not. If the data is ordinal, you should encode the data as integers. If the data is not ordinal, you should encode the data as one-hot vectors.\n",
        "2. Show the first 5 rows of the prepared data\n",
        "3. Compare the two classifiers on the dataset and generate the plots\n",
        "\n",
        "The grading will be based on whether the data is correctly prepared and the plots are generated without errors. The grading will not be based on the performance of the classifiers and whether the plots are the same as in the paper."
      ]
    },
    {
      "cell_type": "markdown",
      "metadata": {
        "id": "iXHtt9BabNPg"
      },
      "source": [
        "**Dataset 1: Iris Dataset**\n",
        "\n",
        "https://scikit-learn.org/stable/auto_examples/datasets/plot_iris_dataset.html"
      ]
    },
    {
      "cell_type": "code",
      "execution_count": 21,
      "metadata": {
        "colab": {
          "base_uri": "https://localhost:8080/",
          "height": 905
        },
        "id": "uGuy-z5pbNPg",
        "outputId": "83142876-82a3-4bfd-952d-4b236bcb53a5"
      },
      "outputs": [
        {
          "output_type": "stream",
          "name": "stdout",
          "text": [
            "[0.53333333 0.03333333 0.         0.03333333 0.03333333 0.\n",
            " 0.03333333 0.03333333 0.03333333 0.03333333] [0.33333333 0.03333333 0.03333333 0.03333333 0.03333333 0.\n",
            " 0.         0.         0.         0.        ]\n"
          ]
        },
        {
          "output_type": "display_data",
          "data": {
            "text/plain": [
              "<Figure size 1000x1000 with 1 Axes>"
            ],
            "image/png": "[encoded data removed]"
          },
          "metadata": {}
        }
      ],
      "source": [
        "# TODO: insert your code for experiments\n",
        "###################################################\n",
        "##### YOUR CODE STARTS HERE #######################\n",
        "###################################################\n",
        "from sklearn.datasets import load_iris\n",
        "from sklearn.linear_model import LogisticRegression\n",
        "iris = load_iris()\n",
        "\n",
        "X, y = iris['data'], iris['target']\n",
        "nbc_iris = NBC(feature_types=['r', 'r', 'r', 'r'])\n",
        "lr_iris = LogisticRegression(solver='liblinear')\n",
        "\n",
        "tst_errs_nbc, tst_errs_lr = compareNBCvsLR(nbc_iris,lr_iris,X,y,num_runs=1000)\n",
        "print(tst_errs_nbc, tst_errs_lr)\n",
        "makePlot(tst_errs_nbc,tst_errs_lr)\n",
        "\n",
        "###################################################\n",
        "##### YOUR CODE ENDS HERE #########################\n",
        "###################################################"
      ]
    },
    {
      "cell_type": "markdown",
      "metadata": {
        "id": "Pn2nkOttbNPg"
      },
      "source": [
        "**Dataset 2: Voting Dataset**\n",
        "\n",
        "https://archive.ics.uci.edu/ml/datasets/congressional+voting+records\n",
        "\n",
        "The logistic regression line meets the naive bayes line early in the plot."
      ]
    },
    {
      "cell_type": "code",
      "execution_count": 22,
      "metadata": {
        "colab": {
          "base_uri": "https://localhost:8080/",
          "height": 1000
        },
        "id": "6FRT-SOIbNPg",
        "outputId": "b43388c1-7e3e-4819-cde6-3da5e90fb345"
      },
      "outputs": [
        {
          "output_type": "stream",
          "name": "stdout",
          "text": [
            "        label handicapped-infants water-project-cost-sharing  \\\n",
            "0  republican                   n                          y   \n",
            "1  republican                   n                          y   \n",
            "2    democrat                 NaN                          y   \n",
            "3    democrat                   n                          y   \n",
            "4    democrat                   y                          y   \n",
            "\n",
            "  adoption-of-the-budget-resolution physician-fee-freeze el-salvador-aid  \\\n",
            "0                                 n                    y               y   \n",
            "1                                 n                    y               y   \n",
            "2                                 y                  NaN               y   \n",
            "3                                 y                    n             NaN   \n",
            "4                                 y                    n               y   \n",
            "\n",
            "  religious-groups-in-schools anti-satellite-test-ban  \\\n",
            "0                           y                       n   \n",
            "1                           y                       n   \n",
            "2                           y                       n   \n",
            "3                           y                       n   \n",
            "4                           y                       n   \n",
            "\n",
            "  aid-to-nicaraguan-contras mx-missile immigration  \\\n",
            "0                         n          n           y   \n",
            "1                         n          n           n   \n",
            "2                         n          n           n   \n",
            "3                         n          n           n   \n",
            "4                         n          n           n   \n",
            "\n",
            "  synfuels-corporation-cutback education-spending superfund-right-to-sue  \\\n",
            "0                          NaN                  y                      y   \n",
            "1                            n                  y                      y   \n",
            "2                            y                  n                      y   \n",
            "3                            y                  n                      y   \n",
            "4                            y                NaN                      y   \n",
            "\n",
            "  crime duty-free-exports export-administration-act-south-africa  \n",
            "0     y                 n                                      y  \n",
            "1     y                 n                                    NaN  \n",
            "2     y                 n                                      n  \n",
            "3     n                 n                                      y  \n",
            "4     y                 y                                      y  \n",
            "[0.05 0.1  0.15 0.1  0.1  0.1  0.1  0.1  0.1  0.1 ] [0.05 0.05 0.05 0.05 0.05 0.05 0.05 0.05 0.05 0.05]\n"
          ]
        },
        {
          "output_type": "display_data",
          "data": {
            "text/plain": [
              "<Figure size 1000x1000 with 1 Axes>"
            ],
            "image/png": "[encoded data removed]"
          },
          "metadata": {}
        }
      ],
      "source": [
        "# load the dataset\n",
        "# TODO: insert your code for experiments\n",
        "###################################################\n",
        "##### YOUR CODE STARTS HERE #######################\n",
        "###################################################\n",
        "voting = pd.read_csv('/content/voting.csv')\n",
        "\n",
        "print(voting.head())\n",
        "# drop those data points with empty feature value\n",
        "voting=voting.dropna()\n",
        "voting[\"label\"].value_counts()\n",
        "data_mapping = {\"democrat\":0,\"republican\":1,\"y\":1,\"n\":0}\n",
        "# map those lable/feature to binary value suitable for model fit and predict\n",
        "y = voting[\"label\"].map(data_mapping).to_numpy()\n",
        "X=np.array([voting[voting.columns[i]].map(data_mapping) for i in range(1,len(voting.columns)) ]).transpose()\n",
        "# print(X[:10])\n",
        "# print(y[:10])\n",
        "nbc_voting = NBC(feature_types=['b']*16)\n",
        "lr_voting = LogisticRegression(solver='liblinear')\n",
        "\n",
        "# choose the first 100 data points as the dataset\n",
        "tst_errs_nbc, tst_errs_lr = compareNBCvsLR(nbc_voting,lr_voting,X[0:100],y[0:100],num_runs=1000)\n",
        "print(tst_errs_nbc, tst_errs_lr)\n",
        "makePlot(tst_errs_nbc,tst_errs_lr)\n",
        "###################################################\n",
        "##### YOUR CODE ENDS HERE #########################\n",
        "###################################################"
      ]
    },
    {
      "cell_type": "markdown",
      "metadata": {
        "id": "dRRrnU0YbNPh"
      },
      "source": [
        "**Dataset 3: Breast Cancer Dataset (Bonus Tasks)**\n",
        "\n",
        "https://archive.ics.uci.edu/ml/datasets/breast+cancer\n",
        "\n",
        "The dataset has continues, binary and categorical features. It also has missing values.\n",
        "\n",
        "Hints: You can precompute the size of the domains of the categorical features."
      ]
    },
    {
      "cell_type": "code",
      "execution_count": 24,
      "metadata": {
        "id": "fnJX-T0mbNPp",
        "outputId": "01ad9629-b342-4666-cb50-c3d28f5a3b07",
        "colab": {
          "base_uri": "https://localhost:8080/"
        }
      },
      "outputs": [
        {
          "output_type": "stream",
          "name": "stdout",
          "text": [
            "<class 'pandas.core.frame.DataFrame'>\n",
            "RangeIndex: 286 entries, 0 to 285\n",
            "Data columns (total 10 columns):\n",
            " #   Column       Non-Null Count  Dtype \n",
            "---  ------       --------------  ----- \n",
            " 0   Class        286 non-null    object\n",
            " 1   age          286 non-null    object\n",
            " 2   menopause    286 non-null    object\n",
            " 3   tumor-size   286 non-null    object\n",
            " 4   inv-nodes    286 non-null    object\n",
            " 5   node-caps    286 non-null    object\n",
            " 6   deg-malig    286 non-null    int64 \n",
            " 7   breast       286 non-null    object\n",
            " 8   breast-quad  286 non-null    object\n",
            " 9   irradiat     286 non-null    object\n",
            "dtypes: int64(1), object(9)\n",
            "memory usage: 22.5+ KB\n"
          ]
        }
      ],
      "source": [
        "# load the dataset\n",
        "# TODO: insert your code for experiments\n",
        "###################################################\n",
        "##### YOUR CODE STARTS HERE #######################\n",
        "###################################################\n",
        "cancer = pd.read_csv('/content/breast-cancer.csv')\n",
        "\n",
        "cancer.info()\n",
        "\n",
        "###################################################\n",
        "##### YOUR CODE ENDS HERE #########################\n",
        "###################################################"
      ]
    },
    {
      "cell_type": "code",
      "execution_count": null,
      "metadata": {
        "id": "z77xbXjHbNPp"
      },
      "outputs": [],
      "source": []
    }
  ],
  "metadata": {
    "kernelspec": {
      "display_name": "Python 3",
      "language": "python",
      "name": "python3"
    },
    "language_info": {
      "codemirror_mode": {
        "name": "ipython",
        "version": 3
      },
      "file_extension": ".py",
      "mimetype": "text/x-python",
      "name": "python",
      "nbconvert_exporter": "python",
      "pygments_lexer": "ipython3",
      "version": "3.11.5"
    },
    "colab": {
      "provenance": [],
      "include_colab_link": true
    }
  },
  "nbformat": 4,
  "nbformat_minor": 0
}