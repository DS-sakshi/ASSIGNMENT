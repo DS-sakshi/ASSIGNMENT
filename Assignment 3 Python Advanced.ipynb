{
 "cells": [
  {
   "cell_type": "code",
   "execution_count": 1,
   "id": "7907d4c5",
   "metadata": {},
   "outputs": [],
   "source": [
    "#1. What is the concept of an abstract superclass?"
   ]
  },
  {
   "cell_type": "code",
   "execution_count": 2,
   "id": "dc864ae1",
   "metadata": {},
   "outputs": [],
   "source": [
    "# class created as a master structure. \n",
    "#No objects of an abstract class are created, rather subclasses of the abstract class are \n",
    "#defined with their own variations, and the subclasses are used to create the actual objects."
   ]
  },
  {
   "cell_type": "code",
   "execution_count": 3,
   "id": "c9f2c356",
   "metadata": {},
   "outputs": [],
   "source": [
    "#2. What happens when a class statement's top level contains a basic assignment statement?"
   ]
  },
  {
   "cell_type": "code",
   "execution_count": 4,
   "id": "b37ba254",
   "metadata": {},
   "outputs": [],
   "source": [
    "# When class statement contain assignment statements they create instance variables and provide default values"
   ]
  },
  {
   "cell_type": "code",
   "execution_count": 5,
   "id": "031cc721",
   "metadata": {},
   "outputs": [],
   "source": [
    "#3. Why does a class need to manually call a superclass's __init__ method?\n",
    "\n",
    "#An important thing to note though is that when you define an __init__ method for a child class you always have \n",
    "#to call the __init__ of the parent using super(). This is not due to super() doing something magical relating to \n",
    "#initialization, but because Python requires that when you instantiate a child class the parent class has to be \n",
    "#instantiated as well. If you don't define an __init__ method then that is not a problem since Python will just\n",
    "#use the parent's __init__ automatically, but when you define your own, then the parent won't be instantiated unless \n",
    "#you call the parent's __init__ method manually."
   ]
  },
  {
   "cell_type": "code",
   "execution_count": 6,
   "id": "476ecd9b",
   "metadata": {},
   "outputs": [],
   "source": [
    "#4. How can you augment, instead of completely replacing, an inherited method?\n",
    "# Message forwarding allows you to augment an inherited method in such a way that it can perform its \n",
    "#inherited action and some new action."
   ]
  },
  {
   "cell_type": "code",
   "execution_count": 7,
   "id": "12e43822",
   "metadata": {},
   "outputs": [],
   "source": [
    "#5. How is the local scope of a class different from that of a function?"
   ]
  },
  {
   "cell_type": "code",
   "execution_count": 8,
   "id": "5423e41a",
   "metadata": {},
   "outputs": [
    {
     "ename": "SyntaxError",
     "evalue": "invalid syntax (Temp/ipykernel_21964/4130530808.py, line 2)",
     "output_type": "error",
     "traceback": [
      "\u001b[1;36m  File \u001b[1;32m\"C:\\Users\\saksh\\AppData\\Local\\Temp/ipykernel_21964/4130530808.py\"\u001b[1;36m, line \u001b[1;32m2\u001b[0m\n\u001b[1;33m    {                                    <-------\u001b[0m\n\u001b[1;37m                                         ^\u001b[0m\n\u001b[1;31mSyntaxError\u001b[0m\u001b[1;31m:\u001b[0m invalid syntax\n"
     ]
    }
   ],
   "source": [
    "#void doSomething()\n",
    "{                                    <-------\n",
    "     {                   <----               | \n",
    "                              |              |\n",
    "         int a;           Local Scope    Function Scope\n",
    "                              |              |\n",
    "     }                   <----               | \n",
    "}                                    <------- "
   ]
  },
  {
   "cell_type": "code",
   "execution_count": null,
   "id": "bc8f4946",
   "metadata": {},
   "outputs": [],
   "source": []
  }
 ],
 "metadata": {
  "kernelspec": {
   "display_name": "Python 3 (ipykernel)",
   "language": "python",
   "name": "python3"
  },
  "language_info": {
   "codemirror_mode": {
    "name": "ipython",
    "version": 3
   },
   "file_extension": ".py",
   "mimetype": "text/x-python",
   "name": "python",
   "nbconvert_exporter": "python",
   "pygments_lexer": "ipython3",
   "version": "3.9.7"
  }
 },
 "nbformat": 4,
 "nbformat_minor": 5
}
