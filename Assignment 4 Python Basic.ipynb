{
 "cells": [
  {
   "cell_type": "code",
   "execution_count": 1,
   "id": "a49431d8",
   "metadata": {},
   "outputs": [],
   "source": [
    "#1. What exactly is []?"
   ]
  },
  {
   "cell_type": "code",
   "execution_count": 2,
   "id": "90db96f2",
   "metadata": {},
   "outputs": [],
   "source": [
    "# In python, square brackets([]) are used to create an empty list."
   ]
  },
  {
   "cell_type": "code",
   "execution_count": 3,
   "id": "b9265a72",
   "metadata": {},
   "outputs": [],
   "source": [
    "#2. In a list of values stored in a variable called spam, \n",
    "#how would you assign the value 'hello' as the third value? (Assume [2, 4, 6, 8, 10] are in spam.)"
   ]
  },
  {
   "cell_type": "code",
   "execution_count": 4,
   "id": "274296c0",
   "metadata": {},
   "outputs": [],
   "source": [
    "spam=[2, 4, 6, 8, 10]\n",
    "spam[3]='hello'"
   ]
  },
  {
   "cell_type": "code",
   "execution_count": 5,
   "id": "09fda749",
   "metadata": {},
   "outputs": [
    {
     "data": {
      "text/plain": [
       "[2, 4, 6, 'hello', 10]"
      ]
     },
     "execution_count": 5,
     "metadata": {},
     "output_type": "execute_result"
    }
   ],
   "source": [
    "spam "
   ]
  },
  {
   "cell_type": "code",
   "execution_count": 6,
   "id": "38633d13",
   "metadata": {},
   "outputs": [],
   "source": [
    "#3. What is the value of spam[int(int('3' * 2) / 11)]?"
   ]
  },
  {
   "cell_type": "code",
   "execution_count": 7,
   "id": "32cd311f",
   "metadata": {},
   "outputs": [
    {
     "data": {
      "text/plain": [
       "'d'"
      ]
     },
     "execution_count": 7,
     "metadata": {},
     "output_type": "execute_result"
    }
   ],
   "source": [
    "spam=['a','b','c','d']\n",
    "spam[int(int('3' * 2) / 11)]"
   ]
  },
  {
   "cell_type": "code",
   "execution_count": 8,
   "id": "d2f42358",
   "metadata": {},
   "outputs": [],
   "source": [
    "#4. What is the value of spam[-1]?"
   ]
  },
  {
   "cell_type": "code",
   "execution_count": 9,
   "id": "00bb1fc0",
   "metadata": {},
   "outputs": [
    {
     "data": {
      "text/plain": [
       "'d'"
      ]
     },
     "execution_count": 9,
     "metadata": {},
     "output_type": "execute_result"
    }
   ],
   "source": [
    "spam[-1]"
   ]
  },
  {
   "cell_type": "code",
   "execution_count": 10,
   "id": "a44da7ad",
   "metadata": {},
   "outputs": [],
   "source": [
    "#5. What is the value of spam[:2]?"
   ]
  },
  {
   "cell_type": "code",
   "execution_count": 11,
   "id": "f60e91c1",
   "metadata": {},
   "outputs": [
    {
     "data": {
      "text/plain": [
       "['a', 'b']"
      ]
     },
     "execution_count": 11,
     "metadata": {},
     "output_type": "execute_result"
    }
   ],
   "source": [
    "spam[:2]"
   ]
  },
  {
   "cell_type": "code",
   "execution_count": 12,
   "id": "b8be16cf",
   "metadata": {},
   "outputs": [],
   "source": [
    "bacon=[3.14, 'cat', 11, 'cat', True] "
   ]
  },
  {
   "cell_type": "code",
   "execution_count": 13,
   "id": "3ccb7e88",
   "metadata": {},
   "outputs": [],
   "source": [
    "#6. What is the value of bacon.index('cat')?"
   ]
  },
  {
   "cell_type": "code",
   "execution_count": 14,
   "id": "07e890c6",
   "metadata": {},
   "outputs": [
    {
     "data": {
      "text/plain": [
       "1"
      ]
     },
     "execution_count": 14,
     "metadata": {},
     "output_type": "execute_result"
    }
   ],
   "source": [
    "bacon.index('cat')"
   ]
  },
  {
   "cell_type": "code",
   "execution_count": 15,
   "id": "c77a2713",
   "metadata": {},
   "outputs": [],
   "source": [
    "#7. How does bacon.append(99) change the look of the list value in bacon?"
   ]
  },
  {
   "cell_type": "code",
   "execution_count": 16,
   "id": "b03bac7c",
   "metadata": {},
   "outputs": [
    {
     "data": {
      "text/plain": [
       "[3.14, 'cat', 11, 'cat', True, 99]"
      ]
     },
     "execution_count": 16,
     "metadata": {},
     "output_type": "execute_result"
    }
   ],
   "source": [
    "bacon.append(99)\n",
    "bacon"
   ]
  },
  {
   "cell_type": "code",
   "execution_count": 17,
   "id": "9c801488",
   "metadata": {},
   "outputs": [],
   "source": [
    "#8. How does bacon.remove('cat') change the look of the list in bacon?"
   ]
  },
  {
   "cell_type": "code",
   "execution_count": 18,
   "id": "bbf31c4b",
   "metadata": {},
   "outputs": [
    {
     "data": {
      "text/plain": [
       "[3.14, 11, 'cat', True, 99]"
      ]
     },
     "execution_count": 18,
     "metadata": {},
     "output_type": "execute_result"
    }
   ],
   "source": [
    "bacon.remove('cat')\n",
    "bacon"
   ]
  },
  {
   "cell_type": "code",
   "execution_count": 19,
   "id": "fb60a88e",
   "metadata": {},
   "outputs": [],
   "source": [
    "#9. What are the list concatenation and list replication operators?"
   ]
  },
  {
   "cell_type": "code",
   "execution_count": 20,
   "id": "45ed77a4",
   "metadata": {},
   "outputs": [],
   "source": [
    "# List concatenation = l1 + l2\n",
    "# list replication = l1*3"
   ]
  },
  {
   "cell_type": "code",
   "execution_count": 21,
   "id": "158dfa1c",
   "metadata": {},
   "outputs": [],
   "source": [
    "#10. What is difference between the list methods append() and insert()?"
   ]
  },
  {
   "cell_type": "code",
   "execution_count": 22,
   "id": "c5d12699",
   "metadata": {},
   "outputs": [],
   "source": [
    "# list.append() : Used to add a new element to the list in the last position\n",
    "# list.insert(a,b): Used to add an element(b) to the list at [a]th position. It takes two arguments"
   ]
  },
  {
   "cell_type": "code",
   "execution_count": 23,
   "id": "d0e40b9f",
   "metadata": {},
   "outputs": [
    {
     "data": {
      "text/plain": [
       "[4374, 3, 4, 2, 4]"
      ]
     },
     "execution_count": 23,
     "metadata": {},
     "output_type": "execute_result"
    }
   ],
   "source": [
    "l=[4374,4,2,42,4]\n",
    "l.insert(1,3)\n",
    "l.append(45)\n",
    "l.remove(45)\n",
    "l.pop(4)\n",
    "l"
   ]
  },
  {
   "cell_type": "code",
   "execution_count": 24,
   "id": "5921bfca",
   "metadata": {},
   "outputs": [],
   "source": [
    "#11. What are the two methods for removing items from a list?"
   ]
  },
  {
   "cell_type": "code",
   "execution_count": 25,
   "id": "7bc614c1",
   "metadata": {},
   "outputs": [],
   "source": [
    "# list.pop and list.remove "
   ]
  },
  {
   "cell_type": "code",
   "execution_count": 26,
   "id": "255b13ef",
   "metadata": {},
   "outputs": [],
   "source": [
    "#12. Describe how list values and string values are identical."
   ]
  },
  {
   "cell_type": "code",
   "execution_count": 27,
   "id": "142d87f3",
   "metadata": {},
   "outputs": [],
   "source": [
    "# Both are sequences but list is mutable and strings are non-mutuable"
   ]
  },
  {
   "cell_type": "code",
   "execution_count": 28,
   "id": "0e31b0f8",
   "metadata": {},
   "outputs": [],
   "source": [
    "#13. What's the difference between tuples and lists?"
   ]
  },
  {
   "cell_type": "code",
   "execution_count": 29,
   "id": "39628666",
   "metadata": {},
   "outputs": [],
   "source": [
    "# brackets: tuples takes values in round-brackets(), whereas lists takes values in square-brackets[]\n",
    "# mutability: tuples are non-mutable, whereas lists are mutable that is we can add or remove items\n",
    "# memory : tuples consume less memory as compared to lists\n",
    "# built in functions: tuples have less built in functions as compared to lists"
   ]
  },
  {
   "cell_type": "code",
   "execution_count": 30,
   "id": "e21f33c5",
   "metadata": {},
   "outputs": [],
   "source": [
    "#14. How do you type a tuple value that only contains the integer 42?"
   ]
  },
  {
   "cell_type": "code",
   "execution_count": 31,
   "id": "ea8e8263",
   "metadata": {},
   "outputs": [],
   "source": [
    "x=tuple('42')"
   ]
  },
  {
   "cell_type": "code",
   "execution_count": 32,
   "id": "95ba0255",
   "metadata": {},
   "outputs": [
    {
     "data": {
      "text/plain": [
       "tuple"
      ]
     },
     "execution_count": 32,
     "metadata": {},
     "output_type": "execute_result"
    }
   ],
   "source": [
    "type(x)"
   ]
  },
  {
   "cell_type": "code",
   "execution_count": 33,
   "id": "af2a7e84",
   "metadata": {},
   "outputs": [],
   "source": [
    "#15. How do you get a list value's tuple form? How do you get a tuple value's list form?"
   ]
  },
  {
   "cell_type": "code",
   "execution_count": 34,
   "id": "f3b6c54b",
   "metadata": {},
   "outputs": [],
   "source": [
    "li=[43,5,35,46,'fjhf']"
   ]
  },
  {
   "cell_type": "code",
   "execution_count": 35,
   "id": "086698de",
   "metadata": {},
   "outputs": [
    {
     "data": {
      "text/plain": [
       "(43, 5, 35, 46, 'fjhf')"
      ]
     },
     "execution_count": 35,
     "metadata": {},
     "output_type": "execute_result"
    }
   ],
   "source": [
    "m=tuple(li)\n",
    "m"
   ]
  },
  {
   "cell_type": "code",
   "execution_count": 36,
   "id": "6a083f65",
   "metadata": {},
   "outputs": [
    {
     "data": {
      "text/plain": [
       "[53, 53, 65, 46, 78]"
      ]
     },
     "execution_count": 36,
     "metadata": {},
     "output_type": "execute_result"
    }
   ],
   "source": [
    "tu=(53,53,65,46,78)\n",
    "n=list(tu)\n",
    "n"
   ]
  },
  {
   "cell_type": "code",
   "execution_count": 37,
   "id": "f6c97310",
   "metadata": {},
   "outputs": [],
   "source": [
    "#16. Variables that \"contain\" list values are not necessarily lists themselves. Instead, what do they contain?"
   ]
  },
  {
   "cell_type": "code",
   "execution_count": 38,
   "id": "6afe9f9e",
   "metadata": {},
   "outputs": [
    {
     "name": "stdout",
     "output_type": "stream",
     "text": [
      "type of x: <class 'str'>\n",
      "type of y: <class 'int'>\n"
     ]
    }
   ],
   "source": [
    "li=[43,5,35,46,'fjhf']\n",
    "x=li[-1]\n",
    "y=li[0]\n",
    "print('type of x:',type(x))\n",
    "print('type of y:',type(y))"
   ]
  },
  {
   "cell_type": "code",
   "execution_count": 39,
   "id": "03f1b05d",
   "metadata": {},
   "outputs": [],
   "source": [
    "# The variables contain the data types that the list carries such as int, float, str, tuple,list etc."
   ]
  },
  {
   "cell_type": "code",
   "execution_count": 40,
   "id": "64e79754",
   "metadata": {},
   "outputs": [],
   "source": [
    "#17. How do you distinguish between copy.copy() and copy.deepcopy()?"
   ]
  },
  {
   "cell_type": "code",
   "execution_count": 41,
   "id": "37753b68",
   "metadata": {},
   "outputs": [],
   "source": [
    "# copy.copy()- A shallow copy creates a new compound object and then references the objects contained in the original within it,\n",
    "# which means it constructs a new collection object and then populates it with references to the child objects found in \n",
    "#the original. The copying process does not recurse and therefore won’t create copies of the child objects themselves\n",
    "\n",
    "# copy.deepcopy() - A deep copy creates a new compound object before inserting copies of the items found in the original \n",
    "#into it in a recursive manner. It means first constructing a new collection object and then recursively populating\n",
    "#it with copies of the child objects found in the original. In the case of deep copy, a copy of the object is copied \n",
    "#into another object. It means that any changes made to a copy of the object do not reflect in the original object."
   ]
  }
 ],
 "metadata": {
  "kernelspec": {
   "display_name": "Python 3 (ipykernel)",
   "language": "python",
   "name": "python3"
  },
  "language_info": {
   "codemirror_mode": {
    "name": "ipython",
    "version": 3
   },
   "file_extension": ".py",
   "mimetype": "text/x-python",
   "name": "python",
   "nbconvert_exporter": "python",
   "pygments_lexer": "ipython3",
   "version": "3.9.7"
  }
 },
 "nbformat": 4,
 "nbformat_minor": 5
}
