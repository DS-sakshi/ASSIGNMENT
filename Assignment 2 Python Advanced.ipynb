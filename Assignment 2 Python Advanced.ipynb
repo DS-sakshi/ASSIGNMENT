{
 "cells": [
  {
   "cell_type": "code",
   "execution_count": 1,
   "id": "357b8fc2",
   "metadata": {},
   "outputs": [],
   "source": [
    "#Q1. What is the relationship between classes and modules?"
   ]
  },
  {
   "cell_type": "code",
   "execution_count": 2,
   "id": "02831381",
   "metadata": {},
   "outputs": [],
   "source": [
    "#Classes are blueprints that allow you to create instances with attributes and bound functionality. \n",
    "#Classes support inheritance, metaclasses, and descriptors. \n",
    "#Modules can't do any of this, modules are essentially singleton instances of an internal module class,\n",
    "#and all their globals are attributes on the module instance.\n"
   ]
  },
  {
   "cell_type": "code",
   "execution_count": 3,
   "id": "05187e58",
   "metadata": {},
   "outputs": [],
   "source": [
    "# Q2. How do you make instances and classes?"
   ]
  },
  {
   "cell_type": "code",
   "execution_count": 4,
   "id": "e83d1b19",
   "metadata": {},
   "outputs": [],
   "source": [
    "class book:\n",
    "    def __init__(self,page,author,language):\n",
    "        self.page=page\n",
    "        self.author=author\n",
    "        self.language=language\n",
    "        \n",
    "a=book(400,'Amish Tripathi','English')"
   ]
  },
  {
   "cell_type": "code",
   "execution_count": 5,
   "id": "9d2e0c4f",
   "metadata": {},
   "outputs": [],
   "source": [
    "#book is a class and 'a' is its instance"
   ]
  },
  {
   "cell_type": "code",
   "execution_count": 6,
   "id": "1914e0fd",
   "metadata": {},
   "outputs": [],
   "source": [
    "#Q3. Where and how should be class attributes created?"
   ]
  },
  {
   "cell_type": "code",
   "execution_count": 7,
   "id": "ab7c04e2",
   "metadata": {},
   "outputs": [],
   "source": [
    "# The class attributes are created within the __init__ constructor and are specified using the below syntax:\n",
    "def __init__(self,page,author,language):\n",
    "        self.page=page\n",
    "        self.author=author\n",
    "        self.language=language"
   ]
  },
  {
   "cell_type": "code",
   "execution_count": 8,
   "id": "f3da83ef",
   "metadata": {},
   "outputs": [],
   "source": [
    "# Q4. Where and how are instance attributes created?"
   ]
  },
  {
   "cell_type": "code",
   "execution_count": 9,
   "id": "a11ef3ac",
   "metadata": {},
   "outputs": [],
   "source": [
    "## The class attributes are created within the __init__ constructor and are specified using the below syntax:\n",
    "def __init__(self,page,author,language):\n",
    "        self.page=page\n",
    "        self.author=author\n",
    "        self.language=language"
   ]
  },
  {
   "cell_type": "code",
   "execution_count": 10,
   "id": "f5630eea",
   "metadata": {},
   "outputs": [],
   "source": [
    "#Q5. What does the term \"self\" in a Python class mean?"
   ]
  },
  {
   "cell_type": "code",
   "execution_count": 11,
   "id": "d8375070",
   "metadata": {},
   "outputs": [],
   "source": [
    "#self represents the instance of the class. By using the “self” keyword we can access the attributes and methods of the class in python. \n",
    "#It binds the attributes with the given arguments"
   ]
  },
  {
   "cell_type": "code",
   "execution_count": 12,
   "id": "9ba577b0",
   "metadata": {},
   "outputs": [],
   "source": [
    "#Q6. How does a Python class handle operator overloading?"
   ]
  },
  {
   "cell_type": "code",
   "execution_count": 13,
   "id": "29f96b5a",
   "metadata": {},
   "outputs": [],
   "source": [
    "#We know that we can use +  operator for adding numbers and at the same time to concatenate strings.\n",
    "#This is possible because +  operator is overloaded by both int  class and str  class. \n",
    "#The operators are basically methods defined in respective classes. \n",
    "#Defining methods for operators is known as operator overloading. \n",
    "#For e.g. To use +  operator with custom objects we need to define a method called __add__  ."
   ]
  },
  {
   "cell_type": "code",
   "execution_count": 14,
   "id": "23887213",
   "metadata": {},
   "outputs": [],
   "source": [
    "#Q7. When do you consider allowing operator overloading of your classes?"
   ]
  },
  {
   "cell_type": "code",
   "execution_count": 15,
   "id": "b48908ae",
   "metadata": {},
   "outputs": [],
   "source": [
    "#Consider that we have two objects which are a physical representation of a class (user-defined data type) \n",
    "#and we have to add two objects with binary ‘+’ operator it throws an error, \n",
    "#because compiler don’t know how to add two objects. \n",
    "#So we define a method for an operator and that process is called operator overloading. \n",
    "#We can overload all existing operators but we can’t create a new operator. "
   ]
  },
  {
   "cell_type": "code",
   "execution_count": 16,
   "id": "14121b48",
   "metadata": {},
   "outputs": [],
   "source": [
    "#Q8. What is the most popular form of operator overloading?"
   ]
  },
  {
   "cell_type": "code",
   "execution_count": 17,
   "id": "b13a0024",
   "metadata": {},
   "outputs": [],
   "source": [
    "# Plus operator overload is the most popular form of operator overloading. \n",
    "#This involves an extended interpretation of an operator more than its original purpose. \n",
    "#The most frequent instance is the adding up operator ‘+’, \n",
    "#where it can be used for the usual addition and also for combining two different strings."
   ]
  },
  {
   "cell_type": "code",
   "execution_count": 18,
   "id": "f670f386",
   "metadata": {},
   "outputs": [],
   "source": [
    "#Q9. What are the two most important concepts to grasp in order to comprehend Python OOP code?"
   ]
  },
  {
   "cell_type": "code",
   "execution_count": 19,
   "id": "0d7efed1",
   "metadata": {},
   "outputs": [],
   "source": [
    "# Inheritance in which a child class inherits methods from parent class\n",
    "# Polymorphism is the ability of a message to be displayed in more than one form."
   ]
  },
  {
   "cell_type": "code",
   "execution_count": null,
   "id": "966414d5",
   "metadata": {},
   "outputs": [],
   "source": []
  }
 ],
 "metadata": {
  "kernelspec": {
   "display_name": "Python 3 (ipykernel)",
   "language": "python",
   "name": "python3"
  },
  "language_info": {
   "codemirror_mode": {
    "name": "ipython",
    "version": 3
   },
   "file_extension": ".py",
   "mimetype": "text/x-python",
   "name": "python",
   "nbconvert_exporter": "python",
   "pygments_lexer": "ipython3",
   "version": "3.9.7"
  }
 },
 "nbformat": 4,
 "nbformat_minor": 5
}
