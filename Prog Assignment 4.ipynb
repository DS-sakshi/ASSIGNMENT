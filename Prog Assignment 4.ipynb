{
 "cells": [
  {
   "cell_type": "code",
   "execution_count": 1,
   "id": "0e6ff9be",
   "metadata": {},
   "outputs": [],
   "source": [
    "#1.\tWrite a Python Program to Find the Factorial of a Number?"
   ]
  },
  {
   "cell_type": "code",
   "execution_count": 2,
   "id": "987e6f67",
   "metadata": {},
   "outputs": [
    {
     "name": "stdout",
     "output_type": "stream",
     "text": [
      "Enter a number 5\n",
      "The value of factorial:  120\n"
     ]
    }
   ],
   "source": [
    "x=int(input('Enter a number '))\n",
    "fac = 1\n",
    "for i in range(1,x+1):\n",
    "        fac = fac*i\n",
    "print('The value of factorial: ',fac)"
   ]
  },
  {
   "cell_type": "code",
   "execution_count": 3,
   "id": "34769753",
   "metadata": {},
   "outputs": [],
   "source": [
    "#2.\tWrite a Python Program to Display the multiplication Table?"
   ]
  },
  {
   "cell_type": "code",
   "execution_count": 4,
   "id": "a4c1d900",
   "metadata": {},
   "outputs": [
    {
     "name": "stdout",
     "output_type": "stream",
     "text": [
      "Enter a number to display multiplication table 3\n",
      "3\n",
      "6\n",
      "9\n",
      "12\n",
      "15\n",
      "18\n",
      "21\n",
      "24\n",
      "27\n",
      "30\n"
     ]
    }
   ],
   "source": [
    "x=int(input('Enter a number to display multiplication table '))\n",
    "k=1\n",
    "for i in range(1,11):\n",
    "    k=x*i\n",
    "    print(k)\n",
    "    i=i+1\n",
    "    "
   ]
  },
  {
   "cell_type": "code",
   "execution_count": 5,
   "id": "ece2aca5",
   "metadata": {},
   "outputs": [],
   "source": [
    "#3.\tWrite a Python Program to Print the Fibonacci sequence?"
   ]
  },
  {
   "cell_type": "code",
   "execution_count": 6,
   "id": "d192d3f0",
   "metadata": {},
   "outputs": [
    {
     "name": "stdout",
     "output_type": "stream",
     "text": [
      "Enter the number of terms 2\n",
      "Fibonacci sequence:\n",
      "0\n",
      "1\n",
      "1\n"
     ]
    }
   ],
   "source": [
    "\n",
    "\n",
    "x = int(input(\"Enter the number of terms \"))\n",
    "\n",
    "a, b = 0, 1\n",
    "c = 0\n",
    "\n",
    "if x <= 0:\n",
    "   print(\"Please enter a positive integer\")\n",
    "elif x == 1:\n",
    "   print(\"Fibonacci sequence upto\",nterms,\":\")\n",
    "   print(a)\n",
    "else:\n",
    "   print(\"Fibonacci sequence:\")\n",
    "   while c <= x:\n",
    "       print(a)\n",
    "       nth = a + b\n",
    "       a = b\n",
    "       b = nth\n",
    "       c += 1\n"
   ]
  },
  {
   "cell_type": "code",
   "execution_count": 7,
   "id": "d442656f",
   "metadata": {},
   "outputs": [],
   "source": [
    "#4.\tWrite a Python Program to Check Armstrong Number?"
   ]
  },
  {
   "cell_type": "code",
   "execution_count": 8,
   "id": "67ddae63",
   "metadata": {},
   "outputs": [
    {
     "name": "stdout",
     "output_type": "stream",
     "text": [
      "Enter a number 3\n",
      "3 is an Armstrong number\n"
     ]
    }
   ],
   "source": [
    "y=int(input('Enter a number '))\n",
    "x=len(str(y))\n",
    "su=0\n",
    "tem=y\n",
    "n=0\n",
    "while tem > 0:\n",
    "    n=tem %10\n",
    "    su+=n**x\n",
    "    tem=tem//10\n",
    "    \n",
    "if y==su:\n",
    "    print(y,'is an Armstrong number')\n",
    "else:\n",
    "    print(y,'not an Armstrong number')"
   ]
  },
  {
   "cell_type": "code",
   "execution_count": 9,
   "id": "b28fb26f",
   "metadata": {},
   "outputs": [],
   "source": [
    "#5.\tWrite a Python Program to Find Armstrong Number in an Interval?"
   ]
  },
  {
   "cell_type": "code",
   "execution_count": 17,
   "id": "27ce931d",
   "metadata": {},
   "outputs": [
    {
     "name": "stdout",
     "output_type": "stream",
     "text": [
      "Enter the upper bound200\n",
      "Enter the lower bound1\n",
      "1\n",
      "2\n",
      "3\n",
      "4\n",
      "5\n",
      "6\n",
      "7\n",
      "8\n",
      "9\n",
      "153\n"
     ]
    }
   ],
   "source": [
    "up=int(input('Enter the upper bound'))\n",
    "low=int(input('Enter the lower bound'))\n",
    "\n",
    "for i in range(low,up+1):\n",
    "    x=len(str(i))\n",
    "    sum=0\n",
    "    temp=i\n",
    "    while temp>0:\n",
    "        d=temp%10\n",
    "        sum = sum + (d**x)\n",
    "        temp//=10\n",
    "    if i==sum:\n",
    "        print(i)"
   ]
  },
  {
   "cell_type": "code",
   "execution_count": 11,
   "id": "e0475eaf",
   "metadata": {},
   "outputs": [],
   "source": [
    "#6.\tWrite a Python Program to Find the Sum of Natural Numbers?"
   ]
  },
  {
   "cell_type": "code",
   "execution_count": 12,
   "id": "b21d30a8",
   "metadata": {},
   "outputs": [
    {
     "name": "stdout",
     "output_type": "stream",
     "text": [
      "Enter the number of which sum is to be found123\n",
      "7626.0\n"
     ]
    }
   ],
   "source": [
    "n=int(input('Enter the number of which sum is to be found'))\n",
    "\n",
    "s=0\n",
    "s=(n*(n+1))/2\n",
    "print(s)"
   ]
  },
  {
   "cell_type": "code",
   "execution_count": null,
   "id": "55ce5d42",
   "metadata": {},
   "outputs": [],
   "source": []
  }
 ],
 "metadata": {
  "kernelspec": {
   "display_name": "Python 3 (ipykernel)",
   "language": "python",
   "name": "python3"
  },
  "language_info": {
   "codemirror_mode": {
    "name": "ipython",
    "version": 3
   },
   "file_extension": ".py",
   "mimetype": "text/x-python",
   "name": "python",
   "nbconvert_exporter": "python",
   "pygments_lexer": "ipython3",
   "version": "3.9.7"
  }
 },
 "nbformat": 4,
 "nbformat_minor": 5
}
