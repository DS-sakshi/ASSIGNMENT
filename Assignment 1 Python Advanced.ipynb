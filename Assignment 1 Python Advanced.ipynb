{
 "cells": [
  {
   "cell_type": "code",
   "execution_count": 1,
   "id": "9545046d",
   "metadata": {},
   "outputs": [],
   "source": [
    "#Q1. What is the purpose of Python's OOP?"
   ]
  },
  {
   "cell_type": "code",
   "execution_count": 2,
   "id": "c915d369",
   "metadata": {},
   "outputs": [],
   "source": [
    "# The main concept of OOPs is to bind the data and the functions that work on that together as a single unit \n",
    "#so that no other part of the code can access this data. Concepts like encapsulation, polymorphism, inheritance are a part of OOPS"
   ]
  },
  {
   "cell_type": "code",
   "execution_count": 3,
   "id": "00a54a49",
   "metadata": {},
   "outputs": [],
   "source": [
    "#Q2. Where does an inheritance search look for an attribute?"
   ]
  },
  {
   "cell_type": "code",
   "execution_count": 4,
   "id": "77290d8e",
   "metadata": {},
   "outputs": [],
   "source": [
    "# Inheritance search looks for an attribute from bottom to top and left to right"
   ]
  },
  {
   "cell_type": "code",
   "execution_count": 5,
   "id": "b2506104",
   "metadata": {},
   "outputs": [],
   "source": [
    "#Q3. How do you distinguish between a class object and an instance object?"
   ]
  },
  {
   "cell_type": "code",
   "execution_count": 6,
   "id": "37b5175f",
   "metadata": {},
   "outputs": [],
   "source": [
    "#An Object is an instance of a Class. A class is like a blueprint while an instance is a copy of the class with actual values.\n",
    "#A class is a blueprint which you use to create objects. \n",
    "#An object is an instance of a class - it's a concrete 'thing' that you made using a specific class. \n",
    "#So, 'object' and 'instance' are the same thing, but the word 'instance' indicates the relationship of an object to its class."
   ]
  },
  {
   "cell_type": "code",
   "execution_count": 7,
   "id": "be146f47",
   "metadata": {},
   "outputs": [],
   "source": [
    "#Q4. What makes the first argument in a class’s method function special?"
   ]
  },
  {
   "cell_type": "code",
   "execution_count": 8,
   "id": "35d568a9",
   "metadata": {},
   "outputs": [],
   "source": [
    "#  The first argument in a class's method function is self. It acts like a pointer, pointing towards the object"
   ]
  },
  {
   "cell_type": "code",
   "execution_count": 9,
   "id": "7819bb55",
   "metadata": {},
   "outputs": [],
   "source": [
    "#Q5. What is the purpose of the __init__ method?"
   ]
  },
  {
   "cell_type": "code",
   "execution_count": 10,
   "id": "f0f90512",
   "metadata": {},
   "outputs": [],
   "source": [
    "# The __init__ method acts like a constructor which creates objects in a class or initializes them."
   ]
  },
  {
   "cell_type": "code",
   "execution_count": 11,
   "id": "3a6d5388",
   "metadata": {},
   "outputs": [],
   "source": [
    "#Q6. What is the process for creating a class instance?"
   ]
  },
  {
   "cell_type": "code",
   "execution_count": 12,
   "id": "6d4f642e",
   "metadata": {},
   "outputs": [],
   "source": [
    "# To create instances of a class, you call the class using class name and pass in whatever arguments its __init__ method accepts."
   ]
  },
  {
   "cell_type": "code",
   "execution_count": 13,
   "id": "88d44369",
   "metadata": {},
   "outputs": [],
   "source": [
    "#Q7. What is the process for creating a class?"
   ]
  },
  {
   "cell_type": "code",
   "execution_count": 14,
   "id": "ce9cdef0",
   "metadata": {},
   "outputs": [],
   "source": [
    "# below is the process for creating class:\n"
   ]
  },
  {
   "cell_type": "code",
   "execution_count": 18,
   "id": "a4979c2a",
   "metadata": {},
   "outputs": [],
   "source": [
    "class book:\n",
    "    def __init__(self,page,author,language):\n",
    "        self.page=page\n",
    "        self.author=author\n",
    "        self.language=language\n",
    "        \n",
    "a=book(400,'Amish Tripathi','English')"
   ]
  },
  {
   "cell_type": "code",
   "execution_count": 25,
   "id": "a2b8a450",
   "metadata": {},
   "outputs": [
    {
     "name": "stdout",
     "output_type": "stream",
     "text": [
      "400\n"
     ]
    }
   ],
   "source": [
    "print(a.page)"
   ]
  },
  {
   "cell_type": "code",
   "execution_count": 26,
   "id": "5a100818",
   "metadata": {},
   "outputs": [],
   "source": [
    "#Q8. How would you define the superclasses of a class?"
   ]
  },
  {
   "cell_type": "code",
   "execution_count": 27,
   "id": "21780de1",
   "metadata": {},
   "outputs": [],
   "source": [
    "# A superclass is the class from which many subclasses can be created. The subclasses inherit the characteristics of a superclass. The superclass is also known as the parent class or base class."
   ]
  },
  {
   "cell_type": "code",
   "execution_count": null,
   "id": "b8ce95ce",
   "metadata": {},
   "outputs": [],
   "source": []
  }
 ],
 "metadata": {
  "kernelspec": {
   "display_name": "Python 3 (ipykernel)",
   "language": "python",
   "name": "python3"
  },
  "language_info": {
   "codemirror_mode": {
    "name": "ipython",
    "version": 3
   },
   "file_extension": ".py",
   "mimetype": "text/x-python",
   "name": "python",
   "nbconvert_exporter": "python",
   "pygments_lexer": "ipython3",
   "version": "3.9.7"
  }
 },
 "nbformat": 4,
 "nbformat_minor": 5
}
