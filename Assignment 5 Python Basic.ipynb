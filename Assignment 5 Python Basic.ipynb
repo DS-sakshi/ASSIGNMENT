{
 "cells": [
  {
   "cell_type": "code",
   "execution_count": 1,
   "id": "6166daa3",
   "metadata": {},
   "outputs": [],
   "source": [
    "#1. What does an empty dictionary's code look like?"
   ]
  },
  {
   "cell_type": "code",
   "execution_count": 2,
   "id": "ef82ab01",
   "metadata": {},
   "outputs": [],
   "source": [
    "d={}"
   ]
  },
  {
   "cell_type": "code",
   "execution_count": 3,
   "id": "832f8748",
   "metadata": {},
   "outputs": [
    {
     "data": {
      "text/plain": [
       "dict"
      ]
     },
     "execution_count": 3,
     "metadata": {},
     "output_type": "execute_result"
    }
   ],
   "source": [
    "type(d)"
   ]
  },
  {
   "cell_type": "code",
   "execution_count": 4,
   "id": "2f248ba9",
   "metadata": {},
   "outputs": [],
   "source": [
    "#2. What is the value of a dictionary value with the key 'foo' and the value 42?"
   ]
  },
  {
   "cell_type": "code",
   "execution_count": 5,
   "id": "476ca130",
   "metadata": {},
   "outputs": [],
   "source": [
    "d={'foo':42}"
   ]
  },
  {
   "cell_type": "code",
   "execution_count": 6,
   "id": "f21d5b96",
   "metadata": {},
   "outputs": [],
   "source": [
    "#3. What is the most significant distinction between a dictionary and a list?"
   ]
  },
  {
   "cell_type": "code",
   "execution_count": 8,
   "id": "a82d02d0",
   "metadata": {},
   "outputs": [],
   "source": [
    "# Brackets: Dictionary uses curly brackets while list uses square brackets\n",
    "# Values: Dictionary has key-value pair while list contains arbitrary values"
   ]
  },
  {
   "cell_type": "code",
   "execution_count": 9,
   "id": "7a147de3",
   "metadata": {},
   "outputs": [],
   "source": [
    "#4. What happens if you try to access spam['foo'] if spam is {'bar': 100}?"
   ]
  },
  {
   "cell_type": "code",
   "execution_count": 10,
   "id": "5d4d721d",
   "metadata": {},
   "outputs": [
    {
     "ename": "KeyError",
     "evalue": "'foo'",
     "output_type": "error",
     "traceback": [
      "\u001b[1;31m---------------------------------------------------------------------------\u001b[0m",
      "\u001b[1;31mKeyError\u001b[0m                                  Traceback (most recent call last)",
      "\u001b[1;32m~\\AppData\\Local\\Temp/ipykernel_6140/1717283131.py\u001b[0m in \u001b[0;36m<module>\u001b[1;34m\u001b[0m\n\u001b[0;32m      1\u001b[0m \u001b[0mspam\u001b[0m\u001b[1;33m=\u001b[0m\u001b[1;33m{\u001b[0m\u001b[1;34m'bar'\u001b[0m\u001b[1;33m:\u001b[0m\u001b[1;36m100\u001b[0m\u001b[1;33m}\u001b[0m\u001b[1;33m\u001b[0m\u001b[1;33m\u001b[0m\u001b[0m\n\u001b[1;32m----> 2\u001b[1;33m \u001b[0mspam\u001b[0m\u001b[1;33m[\u001b[0m\u001b[1;34m'foo'\u001b[0m\u001b[1;33m]\u001b[0m\u001b[1;33m\u001b[0m\u001b[1;33m\u001b[0m\u001b[0m\n\u001b[0m",
      "\u001b[1;31mKeyError\u001b[0m: 'foo'"
     ]
    }
   ],
   "source": [
    "spam={'bar':100}\n",
    "spam['foo']"
   ]
  },
  {
   "cell_type": "code",
   "execution_count": 11,
   "id": "b86f4a89",
   "metadata": {},
   "outputs": [],
   "source": [
    "# we get an error because spam does not contain a key named 'foo'"
   ]
  },
  {
   "cell_type": "code",
   "execution_count": 12,
   "id": "14e84448",
   "metadata": {},
   "outputs": [],
   "source": [
    "#5. If a dictionary is stored in spam, what is the difference between the expressions 'cat' in spam and 'cat' in spam.keys()?"
   ]
  },
  {
   "cell_type": "code",
   "execution_count": 13,
   "id": "355c13ae",
   "metadata": {},
   "outputs": [],
   "source": [
    "# 'cat' in spam.keys() means that, 'cat' is specifically a key but \n",
    "# 'cat' in spam may refer to either a key or a value"
   ]
  },
  {
   "cell_type": "code",
   "execution_count": 15,
   "id": "37c2d693",
   "metadata": {},
   "outputs": [],
   "source": [
    "#6. If a dictionary is stored in spam, what is the difference between the expressions 'cat' in spam and 'cat' in spam.values()?"
   ]
  },
  {
   "cell_type": "code",
   "execution_count": 16,
   "id": "f9cf9060",
   "metadata": {},
   "outputs": [],
   "source": [
    "# 'cat' in spam.values() means that, 'cat' is specifically a value but \n",
    "# 'cat' in spam may refer to either a key or a value"
   ]
  },
  {
   "cell_type": "code",
   "execution_count": 17,
   "id": "ce3d02a3",
   "metadata": {},
   "outputs": [],
   "source": [
    "#7. What is a shortcut for the following code?"
   ]
  },
  {
   "cell_type": "code",
   "execution_count": 19,
   "id": "162b24b2",
   "metadata": {},
   "outputs": [],
   "source": [
    "if 'color' not in spam:\n",
    "    spam['color'] = 'black'\n"
   ]
  },
  {
   "cell_type": "code",
   "execution_count": 20,
   "id": "c09bdf39",
   "metadata": {},
   "outputs": [
    {
     "data": {
      "text/plain": [
       "{'bar': 100, 'color': 'black'}"
      ]
     },
     "execution_count": 20,
     "metadata": {},
     "output_type": "execute_result"
    }
   ],
   "source": [
    "spam"
   ]
  },
  {
   "cell_type": "code",
   "execution_count": 25,
   "id": "109ae2a0",
   "metadata": {},
   "outputs": [],
   "source": [
    "spam['colour']='blackk'"
   ]
  },
  {
   "cell_type": "code",
   "execution_count": 26,
   "id": "8ffee3ed",
   "metadata": {},
   "outputs": [
    {
     "data": {
      "text/plain": [
       "{'bar': 100, 'color': 'black', 'colour': 'blackk'}"
      ]
     },
     "execution_count": 26,
     "metadata": {},
     "output_type": "execute_result"
    }
   ],
   "source": [
    "spam"
   ]
  },
  {
   "cell_type": "code",
   "execution_count": 27,
   "id": "8630a831",
   "metadata": {},
   "outputs": [],
   "source": [
    "#8. How do you \"pretty print\" dictionary values using which module and function?"
   ]
  },
  {
   "cell_type": "code",
   "execution_count": 28,
   "id": "924a77be",
   "metadata": {},
   "outputs": [],
   "source": [
    "#Within the Python json module, there is a function called dumps(), which converts a Python object into a JSON string"
   ]
  },
  {
   "cell_type": "code",
   "execution_count": 30,
   "id": "1ed59acf",
   "metadata": {},
   "outputs": [
    {
     "name": "stdout",
     "output_type": "stream",
     "text": [
      "[\n",
      "    {\n",
      "        \"Name\": \"salsa\",\n",
      "        \"Age\": \"13\",\n",
      "        \"Country\": \"Spain\"\n",
      "    },\n",
      "    {\n",
      "        \"Name\": \"belly\",\n",
      "        \"Age\": \"22\",\n",
      "        \"Country\": \"Iran\"\n",
      "    },\n",
      "    {\n",
      "        \"Name\": \"Anushka\",\n",
      "        \"Age\": \"79\",\n",
      "        \"Country\": \"India\"\n",
      "    },\n",
      "    {\n",
      "        \"Name\": \"Min Ho\",\n",
      "        \"Age\": \"15\",\n",
      "        \"Country\": \"Indonesia\"\n",
      "    }\n",
      "]\n"
     ]
    }
   ],
   "source": [
    "import json\n",
    "\n",
    "d = [\n",
    "  {'Name': 'salsa', 'Age': '13', 'Country': 'Spain'},\n",
    "  {'Name': 'belly', 'Age': '22', 'Country': 'Iran'},\n",
    "  {'Name': 'Anushka', 'Age': '79', 'Country': 'India'},\n",
    "  {'Name': 'Min Ho', 'Age': '15', 'Country': 'Indonesia'}\n",
    "]\n",
    "\n",
    "print(json.dumps(d, sort_keys=False, indent=4))"
   ]
  },
  {
   "cell_type": "code",
   "execution_count": null,
   "id": "00e4a99f",
   "metadata": {},
   "outputs": [],
   "source": []
  }
 ],
 "metadata": {
  "kernelspec": {
   "display_name": "Python 3 (ipykernel)",
   "language": "python",
   "name": "python3"
  },
  "language_info": {
   "codemirror_mode": {
    "name": "ipython",
    "version": 3
   },
   "file_extension": ".py",
   "mimetype": "text/x-python",
   "name": "python",
   "nbconvert_exporter": "python",
   "pygments_lexer": "ipython3",
   "version": "3.9.7"
  }
 },
 "nbformat": 4,
 "nbformat_minor": 5
}
