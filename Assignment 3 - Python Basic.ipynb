{
 "cells": [
  {
   "cell_type": "code",
   "execution_count": 1,
   "id": "0b2ce728",
   "metadata": {},
   "outputs": [],
   "source": [
    "# 1. Why are functions advantageous to have in your programs?"
   ]
  },
  {
   "cell_type": "code",
   "execution_count": 2,
   "id": "ed6ac597",
   "metadata": {},
   "outputs": [],
   "source": [
    "# Functions can perform a specific task once we call them. If we want to perform a task for 5 times, we don't need to write the code for 5 times.\n",
    "# Instead we can just call the function 5 times. This increases efficiency."
   ]
  },
  {
   "cell_type": "code",
   "execution_count": 3,
   "id": "3919eeab",
   "metadata": {},
   "outputs": [],
   "source": [
    "# 2. When does the code in a function run: when it's specified or when it's called?"
   ]
  },
  {
   "cell_type": "code",
   "execution_count": 4,
   "id": "44fb95bb",
   "metadata": {},
   "outputs": [],
   "source": [
    "# When it's called, the code in the function runs"
   ]
  },
  {
   "cell_type": "code",
   "execution_count": 5,
   "id": "878a8f5d",
   "metadata": {},
   "outputs": [],
   "source": [
    "# 3. What statement creates a function?"
   ]
  },
  {
   "cell_type": "code",
   "execution_count": 6,
   "id": "95005ce4",
   "metadata": {},
   "outputs": [],
   "source": [
    "# def funct():  This statement is used to create a function"
   ]
  },
  {
   "cell_type": "code",
   "execution_count": 7,
   "id": "323529e4",
   "metadata": {},
   "outputs": [],
   "source": [
    "# 4. What is the difference between a function and a function call?"
   ]
  },
  {
   "cell_type": "code",
   "execution_count": 8,
   "id": "f0ba0910",
   "metadata": {},
   "outputs": [],
   "source": [
    "# Function call is the calling of function and the function itself is an enhanced piece of code with reusability and modularity."
   ]
  },
  {
   "cell_type": "code",
   "execution_count": 9,
   "id": "af0b8733",
   "metadata": {},
   "outputs": [],
   "source": [
    "#5. How many global scopes are there in a Python program? How many local scopes?"
   ]
  },
  {
   "cell_type": "code",
   "execution_count": 10,
   "id": "01e83143",
   "metadata": {},
   "outputs": [],
   "source": [
    "#For any python program, there can be only one global scope. \n",
    "#The global scope is created once the program starts and gets destroyed with the termination of the python program.\n",
    "# We can create infinte number of local scopes in a python program."
   ]
  },
  {
   "cell_type": "code",
   "execution_count": 11,
   "id": "a21de51e",
   "metadata": {},
   "outputs": [],
   "source": [
    "#6. What happens to variables in a local scope when the function call returns?"
   ]
  },
  {
   "cell_type": "code",
   "execution_count": 12,
   "id": "a33b2f81",
   "metadata": {},
   "outputs": [],
   "source": [
    "# A local variable retains its value until the next time the function is called .\n",
    "#A local variable becomes undefined after the function call completes .\n",
    "#The local variable can be used outside the function any time after the function call completes."
   ]
  },
  {
   "cell_type": "code",
   "execution_count": 13,
   "id": "09060c23",
   "metadata": {},
   "outputs": [],
   "source": [
    "#7. What is the concept of a return value? Is it possible to have a return value in an expression?"
   ]
  },
  {
   "cell_type": "code",
   "execution_count": 14,
   "id": "ba018347",
   "metadata": {},
   "outputs": [],
   "source": [
    "# The specific value returned from a function is called the return value. Yes, it is possible to have return value in an expression"
   ]
  },
  {
   "cell_type": "code",
   "execution_count": 15,
   "id": "270ba223",
   "metadata": {},
   "outputs": [],
   "source": [
    "# 8. If a function does not have a return statement, what is the return value of a call to that function?"
   ]
  },
  {
   "cell_type": "code",
   "execution_count": 16,
   "id": "9648880a",
   "metadata": {},
   "outputs": [],
   "source": [
    "# It returns None, if return statement is not mentioned in the function"
   ]
  },
  {
   "cell_type": "code",
   "execution_count": 17,
   "id": "257e3276",
   "metadata": {},
   "outputs": [],
   "source": [
    "#9. How do you make a function variable refer to the global variable?"
   ]
  },
  {
   "cell_type": "code",
   "execution_count": 18,
   "id": "ba57006a",
   "metadata": {},
   "outputs": [],
   "source": [
    "#To create a global variable inside a function, you can use the global keyword."
   ]
  },
  {
   "cell_type": "code",
   "execution_count": 19,
   "id": "29e6585b",
   "metadata": {},
   "outputs": [],
   "source": [
    "#10. What is the data type of None?"
   ]
  },
  {
   "cell_type": "code",
   "execution_count": 20,
   "id": "da3013e9",
   "metadata": {},
   "outputs": [
    {
     "data": {
      "text/plain": [
       "NoneType"
      ]
     },
     "execution_count": 20,
     "metadata": {},
     "output_type": "execute_result"
    }
   ],
   "source": [
    "type(None)"
   ]
  },
  {
   "cell_type": "code",
   "execution_count": 21,
   "id": "28ef082a",
   "metadata": {},
   "outputs": [],
   "source": [
    "# NoneType is the data type of None"
   ]
  },
  {
   "cell_type": "code",
   "execution_count": 22,
   "id": "b5568713",
   "metadata": {},
   "outputs": [],
   "source": [
    "#11. What does the sentence import areallyourpetsnamederic do?"
   ]
  },
  {
   "cell_type": "code",
   "execution_count": 25,
   "id": "d89c4f58",
   "metadata": {},
   "outputs": [
    {
     "ename": "ModuleNotFoundError",
     "evalue": "No module named 'areallyourpetsnamederic'",
     "output_type": "error",
     "traceback": [
      "\u001b[1;31m---------------------------------------------------------------------------\u001b[0m",
      "\u001b[1;31mModuleNotFoundError\u001b[0m                       Traceback (most recent call last)",
      "\u001b[1;32m~\\AppData\\Local\\Temp/ipykernel_14044/51184242.py\u001b[0m in \u001b[0;36m<module>\u001b[1;34m\u001b[0m\n\u001b[1;32m----> 1\u001b[1;33m \u001b[1;32mimport\u001b[0m \u001b[0mareallyourpetsnamederic\u001b[0m\u001b[1;33m\u001b[0m\u001b[1;33m\u001b[0m\u001b[0m\n\u001b[0m",
      "\u001b[1;31mModuleNotFoundError\u001b[0m: No module named 'areallyourpetsnamederic'"
     ]
    }
   ],
   "source": [
    "import areallyourpetsnamederic"
   ]
  },
  {
   "cell_type": "code",
   "execution_count": 26,
   "id": "80dd1309",
   "metadata": {},
   "outputs": [],
   "source": [
    "#12. If you had a bacon() feature in a spam module, what would you call it after importing spam?"
   ]
  },
  {
   "cell_type": "code",
   "execution_count": 27,
   "id": "15b82927",
   "metadata": {},
   "outputs": [],
   "source": [
    "# spam.bacon()"
   ]
  },
  {
   "cell_type": "code",
   "execution_count": 28,
   "id": "434e535e",
   "metadata": {},
   "outputs": [],
   "source": [
    "# 13. What can you do to save a programme from crashing if it encounters an error?"
   ]
  },
  {
   "cell_type": "code",
   "execution_count": 29,
   "id": "46915ec5",
   "metadata": {},
   "outputs": [],
   "source": [
    "# We use Exception handling concept and put our code blocks in \"try\" and \"except\" packages"
   ]
  },
  {
   "cell_type": "code",
   "execution_count": 30,
   "id": "1fdfd698",
   "metadata": {},
   "outputs": [],
   "source": [
    "# 14. What is the purpose of the try clause? What is the purpose of the except clause?"
   ]
  },
  {
   "cell_type": "code",
   "execution_count": 31,
   "id": "d3f27792",
   "metadata": {},
   "outputs": [],
   "source": [
    "# In the try clause, we write suspicious code which possibly may or may not fail.\n",
    "# In the except clause, we write the code which we want to execute if the try block fails."
   ]
  },
  {
   "cell_type": "code",
   "execution_count": null,
   "id": "ef9de797",
   "metadata": {},
   "outputs": [],
   "source": []
  }
 ],
 "metadata": {
  "kernelspec": {
   "display_name": "Python 3 (ipykernel)",
   "language": "python",
   "name": "python3"
  },
  "language_info": {
   "codemirror_mode": {
    "name": "ipython",
    "version": 3
   },
   "file_extension": ".py",
   "mimetype": "text/x-python",
   "name": "python",
   "nbconvert_exporter": "python",
   "pygments_lexer": "ipython3",
   "version": "3.9.7"
  }
 },
 "nbformat": 4,
 "nbformat_minor": 5
}
