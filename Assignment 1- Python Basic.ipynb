{
 "cells": [
  {
   "cell_type": "code",
   "execution_count": null,
   "id": "3199a000",
   "metadata": {},
   "outputs": [],
   "source": [
    "#1. In the below elements which of them are values or an expression? \n",
    "#eg:- values can be integer or string and expressions will be mathematical operators.\n"
   ]
  },
  {
   "cell_type": "code",
   "execution_count": null,
   "id": "2ab26f15",
   "metadata": {},
   "outputs": [],
   "source": [
    "# Expressions : * , -,/,+\n",
    "# Values : 'hello',-87.8,6 "
   ]
  },
  {
   "cell_type": "code",
   "execution_count": null,
   "id": "bcf69104",
   "metadata": {},
   "outputs": [],
   "source": [
    "#2. What is the difference between string and variable?\n",
    "##Variables: It is a temporary storage location and it can take many forms, although they only contain numbers, letters and underscores\n",
    "# Strings:It is a combination of characters, enclosed within single quotes('') or double quotes(\"\")."
   ]
  },
  {
   "cell_type": "code",
   "execution_count": null,
   "id": "1b829e3b",
   "metadata": {},
   "outputs": [],
   "source": [
    "#3  Describe three different data types\n",
    "# Float : It is used to store floating point numbers with decimal precision. Eg. 84.902848 is a floating point number.\n",
    "# Integer: It is used to store integers. Eg. 67,99 etc.\n",
    "# Complex: It is used to store complex numbers, which contains real number and an imaginary part in it. Eg. 45+78j , 67+99j.\n",
    "        "
   ]
  },
  {
   "cell_type": "code",
   "execution_count": null,
   "id": "d9fab55c",
   "metadata": {},
   "outputs": [],
   "source": [
    "#4  What is an expression made up of? What do all expressions do?\n",
    "# An expression is made up of various mathematical operators. \n",
    "# The primary task of the expression is to perform a specific mathematical operation. \n",
    "# Eg. (32°F − 32) × 5/9 = 0°C it is an expression to convert temperature from Fahrenheit to degree Celsius"
   ]
  },
  {
   "cell_type": "code",
   "execution_count": null,
   "id": "1df83655",
   "metadata": {},
   "outputs": [],
   "source": [
    "# 5. This assignment statements, like spam = 10. What is the difference between an expression and a statement?\n",
    "#  An expression provides an output in terms of a specific value depending upon the operation performed,\n",
    "# whereas a statement does not return a value. "
   ]
  },
  {
   "cell_type": "code",
   "execution_count": null,
   "id": "639d8e19",
   "metadata": {},
   "outputs": [],
   "source": [
    "# 6. After running the following code, what does the variable bacon contain?\n",
    "# It contains 23."
   ]
  },
  {
   "cell_type": "code",
   "execution_count": 2,
   "id": "fe3dbcf9",
   "metadata": {},
   "outputs": [
    {
     "data": {
      "text/plain": [
       "'spamspamspam'"
      ]
     },
     "execution_count": 2,
     "metadata": {},
     "output_type": "execute_result"
    }
   ],
   "source": [
    "bacon = 22\n",
    "bacon+1\n",
    "'spam'+'spamspam'"
   ]
  },
  {
   "cell_type": "code",
   "execution_count": null,
   "id": "96e3e136",
   "metadata": {},
   "outputs": [],
   "source": [
    "# 7. What should the values of the following two terms be?\n",
    "# 'spamspamspam'"
   ]
  },
  {
   "cell_type": "code",
   "execution_count": null,
   "id": "d8fe46a6",
   "metadata": {},
   "outputs": [],
   "source": [
    "#8. Why is eggs a valid variable name while 100 is invalid?\n",
    "# According to rules, a variable name must begin with a letter and they are case sensitive."
   ]
  },
  {
   "cell_type": "code",
   "execution_count": null,
   "id": "cf954640",
   "metadata": {},
   "outputs": [],
   "source": [
    "# 9. What three functions can be used to get the integer, floating-point number, or string version of a value?\n",
    "# int(), float() and str()"
   ]
  },
  {
   "cell_type": "code",
   "execution_count": 5,
   "id": "c3cf4b82",
   "metadata": {},
   "outputs": [
    {
     "data": {
      "text/plain": [
       "'90.0'"
      ]
     },
     "execution_count": 5,
     "metadata": {},
     "output_type": "execute_result"
    }
   ],
   "source": [
    "str(90.00)"
   ]
  },
  {
   "cell_type": "code",
   "execution_count": 8,
   "id": "3ac95976",
   "metadata": {},
   "outputs": [
    {
     "data": {
      "text/plain": [
       "179"
      ]
     },
     "execution_count": 8,
     "metadata": {},
     "output_type": "execute_result"
    }
   ],
   "source": [
    "int(90.80+89)"
   ]
  },
  {
   "cell_type": "code",
   "execution_count": 11,
   "id": "4756c24c",
   "metadata": {},
   "outputs": [
    {
     "data": {
      "text/plain": [
       "67.0"
      ]
     },
     "execution_count": 11,
     "metadata": {},
     "output_type": "execute_result"
    }
   ],
   "source": [
    "float(67)"
   ]
  },
  {
   "cell_type": "code",
   "execution_count": null,
   "id": "baecf814",
   "metadata": {},
   "outputs": [],
   "source": [
    "#10. Why does this expression cause an error? How can you fix it?\n",
    "# 'I have eaten ' + 99 + ' burritos.'\n"
   ]
  },
  {
   "cell_type": "code",
   "execution_count": 12,
   "id": "cb9d3418",
   "metadata": {},
   "outputs": [
    {
     "data": {
      "text/plain": [
       "'I have eaten 99 burritos.'"
      ]
     },
     "execution_count": 12,
     "metadata": {},
     "output_type": "execute_result"
    }
   ],
   "source": [
    "'I have eaten ' + '99' + ' burritos.'"
   ]
  },
  {
   "cell_type": "code",
   "execution_count": null,
   "id": "6716a88c",
   "metadata": {},
   "outputs": [],
   "source": []
  }
 ],
 "metadata": {
  "kernelspec": {
   "display_name": "Python 3 (ipykernel)",
   "language": "python",
   "name": "python3"
  },
  "language_info": {
   "codemirror_mode": {
    "name": "ipython",
    "version": 3
   },
   "file_extension": ".py",
   "mimetype": "text/x-python",
   "name": "python",
   "nbconvert_exporter": "python",
   "pygments_lexer": "ipython3",
   "version": "3.9.7"
  }
 },
 "nbformat": 4,
 "nbformat_minor": 5
}
