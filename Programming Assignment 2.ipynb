{
 "cells": [
  {
   "cell_type": "code",
   "execution_count": 1,
   "id": "11472eb2",
   "metadata": {},
   "outputs": [],
   "source": [
    "#Write a Python program to convert kilometers to miles?"
   ]
  },
  {
   "cell_type": "code",
   "execution_count": 5,
   "id": "887689a4",
   "metadata": {},
   "outputs": [
    {
     "name": "stdout",
     "output_type": "stream",
     "text": [
      "Enter kms to convert into miles10\n",
      "Miles:  6.2137119\n"
     ]
    }
   ],
   "source": [
    "a=float(input(\"Enter kms to convert into miles\"))\n",
    "b=a*(0.62137119)\n",
    "print(\"Miles: \",b)"
   ]
  },
  {
   "cell_type": "code",
   "execution_count": 6,
   "id": "728bf528",
   "metadata": {},
   "outputs": [],
   "source": [
    "# 2.\tWrite a Python program to convert Celsius to Fahrenheit?"
   ]
  },
  {
   "cell_type": "code",
   "execution_count": 7,
   "id": "fed4da5d",
   "metadata": {},
   "outputs": [
    {
     "name": "stdout",
     "output_type": "stream",
     "text": [
      "Enter miles to convert into kms6.23\n",
      "Miles: 10.026213156100786\n"
     ]
    }
   ],
   "source": [
    "a=float(input(\"Enter miles to convert into kms\"))\n",
    "b=a/(0.62137119)\n",
    "print(\"Miles:\",b)"
   ]
  },
  {
   "cell_type": "code",
   "execution_count": 8,
   "id": "ee073637",
   "metadata": {},
   "outputs": [],
   "source": [
    "#3.\tWrite a Python program to display calendar?"
   ]
  },
  {
   "cell_type": "code",
   "execution_count": 10,
   "id": "657ab4e9",
   "metadata": {},
   "outputs": [
    {
     "name": "stdout",
     "output_type": "stream",
     "text": [
      "Enter the year2300\n",
      "Enter the month04\n",
      "     April 2300\n",
      "Mo Tu We Th Fr Sa Su\n",
      "                   1\n",
      " 2  3  4  5  6  7  8\n",
      " 9 10 11 12 13 14 15\n",
      "16 17 18 19 20 21 22\n",
      "23 24 25 26 27 28 29\n",
      "30\n",
      "\n"
     ]
    }
   ],
   "source": [
    "import calendar\n",
    "year=int(input('Enter the year'))\n",
    "month=int(input('Enter the month'))\n",
    "\n",
    "print(calendar.month(year,month))"
   ]
  },
  {
   "cell_type": "code",
   "execution_count": 11,
   "id": "73a86737",
   "metadata": {},
   "outputs": [],
   "source": [
    "#4.\tWrite a Python program to solve quadratic equation?"
   ]
  },
  {
   "cell_type": "code",
   "execution_count": 12,
   "id": "b7d262f6",
   "metadata": {},
   "outputs": [
    {
     "name": "stdout",
     "output_type": "stream",
     "text": [
      "ax**2+bx+c=0\n",
      "Enter value of a2\n",
      "Enter value of b1\n",
      "Enter value of c1\n",
      "x1 (-0.9999999999999999+2.6457513110645907j)\n",
      "x2 (-1.0000000000000002-2.6457513110645907j)\n"
     ]
    }
   ],
   "source": [
    "import cmath\n",
    "print(\"ax**2+bx+c=0\")\n",
    "a=float(input(\"Enter value of a\"))\n",
    "b=float(input(\"Enter value of b\"))\n",
    "c=float(input(\"Enter value of c\"))\n",
    "de = b*b - 4*a*c\n",
    "x1 = (-b + (de)**0.5)/2*a\n",
    "x2 = (-b - (de)**0.5)/2*a\n",
    "print('x1',x1)\n",
    "print('x2',x2)"
   ]
  },
  {
   "cell_type": "code",
   "execution_count": 13,
   "id": "31da9436",
   "metadata": {},
   "outputs": [],
   "source": [
    "#5.\tWrite a Python program to swap two variables without temp variable?"
   ]
  },
  {
   "cell_type": "code",
   "execution_count": 14,
   "id": "2f458dec",
   "metadata": {},
   "outputs": [
    {
     "name": "stdout",
     "output_type": "stream",
     "text": [
      "Enter a variable: 45\n",
      "Enter a variable: 54\n",
      "a  54\n",
      "b  45\n"
     ]
    }
   ],
   "source": [
    "a=input(\"Enter a variable: \")\n",
    "b=input(\"Enter a variable: \")\n",
    "a,b=b,a\n",
    "print(\"a \",a)\n",
    "print(\"b \",b)"
   ]
  },
  {
   "cell_type": "code",
   "execution_count": null,
   "id": "daeee662",
   "metadata": {},
   "outputs": [],
   "source": []
  }
 ],
 "metadata": {
  "kernelspec": {
   "display_name": "Python 3 (ipykernel)",
   "language": "python",
   "name": "python3"
  },
  "language_info": {
   "codemirror_mode": {
    "name": "ipython",
    "version": 3
   },
   "file_extension": ".py",
   "mimetype": "text/x-python",
   "name": "python",
   "nbconvert_exporter": "python",
   "pygments_lexer": "ipython3",
   "version": "3.9.7"
  }
 },
 "nbformat": 4,
 "nbformat_minor": 5
}
