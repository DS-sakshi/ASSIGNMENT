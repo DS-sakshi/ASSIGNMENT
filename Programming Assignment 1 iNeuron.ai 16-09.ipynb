{
 "cells": [
  {
   "cell_type": "code",
   "execution_count": 1,
   "id": "9dc62a45",
   "metadata": {},
   "outputs": [],
   "source": [
    "#1.\tWrite a Python program to print \"Hello Python\"?\n"
   ]
  },
  {
   "cell_type": "code",
   "execution_count": 2,
   "id": "141c45d7",
   "metadata": {},
   "outputs": [
    {
     "name": "stdout",
     "output_type": "stream",
     "text": [
      "Hello Python\n"
     ]
    }
   ],
   "source": [
    "print(\"Hello Python\")"
   ]
  },
  {
   "cell_type": "code",
   "execution_count": 3,
   "id": "a437bc9f",
   "metadata": {},
   "outputs": [],
   "source": [
    "#2 \tWrite a Python program to do arithmetical operations addition and division.?"
   ]
  },
  {
   "cell_type": "code",
   "execution_count": 4,
   "id": "6c7e697b",
   "metadata": {},
   "outputs": [
    {
     "name": "stdout",
     "output_type": "stream",
     "text": [
      "4\n",
      "5\n",
      " 1.5\n"
     ]
    }
   ],
   "source": [
    "a=float(input())\n",
    "b=float(input())\n",
    "c= (a+b)/6\n",
    "print(\"\",c)"
   ]
  },
  {
   "cell_type": "code",
   "execution_count": 5,
   "id": "3f0b67b4",
   "metadata": {},
   "outputs": [],
   "source": [
    "#3 \tWrite a Python program to find the area of a triangle?"
   ]
  },
  {
   "cell_type": "code",
   "execution_count": 7,
   "id": "aa9ccbdf",
   "metadata": {},
   "outputs": [
    {
     "name": "stdout",
     "output_type": "stream",
     "text": [
      "Enter the base of triangle 6\n",
      "Enter the height of triangle 6\n",
      "The area of triangle is: 18.0\n"
     ]
    }
   ],
   "source": [
    "a=float(input(\"Enter the base of triangle \"))\n",
    "b=float(input(\"Enter the height of triangle \"))\n",
    "c=0.5*(a*b)\n",
    "print(\"The area of triangle is:\",c)"
   ]
  },
  {
   "cell_type": "code",
   "execution_count": 8,
   "id": "a2ae0dfd",
   "metadata": {},
   "outputs": [],
   "source": [
    "#4 \tWrite a Python program to swap two variables?"
   ]
  },
  {
   "cell_type": "code",
   "execution_count": 21,
   "id": "86c4099c",
   "metadata": {},
   "outputs": [
    {
     "name": "stdout",
     "output_type": "stream",
     "text": [
      "Enter a variable to be swapped sak\n",
      "Enter another variable kas\n",
      "The value of a is:  kas\n",
      "The value of b is: sak\n"
     ]
    }
   ],
   "source": [
    "a=input(\"Enter a variable to be swapped \")\n",
    "b=input(\"Enter another variable \")\n",
    "\n",
    "c=a\n",
    "a=b\n",
    "b=c\n",
    "print(\"The value of a is: \",a)\n",
    "print(\"The value of b is:\",b)"
   ]
  },
  {
   "cell_type": "code",
   "execution_count": 24,
   "id": "85fb805f",
   "metadata": {},
   "outputs": [],
   "source": [
    "#5.\tWrite a Python program to generate a random number?"
   ]
  },
  {
   "cell_type": "code",
   "execution_count": 23,
   "id": "2099c448",
   "metadata": {},
   "outputs": [
    {
     "name": "stdout",
     "output_type": "stream",
     "text": [
      "19\n"
     ]
    }
   ],
   "source": [
    "import random\n",
    "a=random.randint(0,100)\n",
    "print(a)\n"
   ]
  },
  {
   "cell_type": "code",
   "execution_count": null,
   "id": "8074aae3",
   "metadata": {},
   "outputs": [],
   "source": []
  }
 ],
 "metadata": {
  "kernelspec": {
   "display_name": "Python 3 (ipykernel)",
   "language": "python",
   "name": "python3"
  },
  "language_info": {
   "codemirror_mode": {
    "name": "ipython",
    "version": 3
   },
   "file_extension": ".py",
   "mimetype": "text/x-python",
   "name": "python",
   "nbconvert_exporter": "python",
   "pygments_lexer": "ipython3",
   "version": "3.9.7"
  }
 },
 "nbformat": 4,
 "nbformat_minor": 5
}
